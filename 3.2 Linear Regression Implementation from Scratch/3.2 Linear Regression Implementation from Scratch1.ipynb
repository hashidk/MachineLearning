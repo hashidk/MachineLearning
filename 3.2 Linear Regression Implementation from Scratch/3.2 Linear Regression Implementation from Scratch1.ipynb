{
 "cells": [
  {
   "cell_type": "markdown",
   "id": "fc0f6a99",
   "metadata": {},
   "source": [
    "# 3.2 Linear Regression Implementation from Scratch\n",
    "\n",
    "Now that you understand the key ideas behind linear regression, we can begin to work through\n",
    "a hands-on implementation in code. In this section, we will implement the entire method from\n",
    "scratch, including the data pipeline, the model, the loss function, and the minibatch stochastic\n",
    "gradient descent optimizer. While modern deep learning frameworks can automate nearly all of\n",
    "this work, implementing things from scratch is the only way to make sure that you really know\n",
    "what you are doing. Moreover, when it comes time to customize models, defining our own layers\n",
    "or loss functions, understanding how things work under the hood will prove handy. In this section,\n",
    "we will rely only on tensors and auto differentiation. Afterwards, we will introduce a more concise\n",
    "implementation, taking advantage of bells and whistles of deep learning frameworks."
   ]
  },
  {
   "cell_type": "code",
   "execution_count": 1,
   "id": "db2844ae",
   "metadata": {},
   "outputs": [],
   "source": [
    "#%matplotlib inline\n",
    "#import random\n",
    "#from mxnet import autograd, np, npx\n",
    "#from d2l import mxnet as d2l\n",
    "#npx.set_np()\n",
    "use strict;\n",
    "use warnings;\n",
    "use Data::Dump qw(dump);\n",
    "use AI::MXNet qw(mx);\n",
    "use d2l;"
   ]
  },
  {
   "cell_type": "markdown",
   "id": "2acc0ab0",
   "metadata": {},
   "source": [
    "## 3.2.1 Generating the Dataset\n",
    "To keep things simple, we will construct an artificial dataset according to a linear model with\n",
    "additive noise. Our task will be to recover this modelʼs parameters using the finite set of examples\n",
    "contained in our dataset. We will keep the data low-dimensional so we can visualize it easily. In\n",
    "the following code snippet, we generate a dataset containing 1000 examples, each consisting of 2\n",
    "features sampled from a standard normal distribution. Thus our synthetic dataset will be a matrix\n",
    "**X** $∈ R^{1000×2}$.\n",
    "\n",
    "The true parameters generating our dataset will be **w** $= [2, −3.4]^⊤$ and $b = 4.2$, and our synthetic\n",
    "labels will be assigned according to the following linear model with the noise term ϵ:\n",
    "\n",
    "$$y = Xw + b + ϵ.             (3.2.1)$$\n",
    "\n",
    "You could think of ϵ as capturing potential measurement errors on the features and labels. We\n",
    "will assume that the standard assumptions hold and thus that ϵ obeys a normal distribution with\n",
    "mean of 0. To make our problem easy, we will set its standard deviation to 0.01. The following\n",
    "code generates our synthetic dataset.\n"
   ]
  },
  {
   "cell_type": "code",
   "execution_count": 6,
   "id": "d6f0df7c",
   "metadata": {},
   "outputs": [
    {
     "ename": "Error",
     "evalue": "syntax error at reply input line 4, near \"->shape[\"\nGlobal symbol \"$X\" requires explicit package name (did you forget to declare \"my $X\"?) at reply input line 5.\nBEGIN not safe after errors--compilation aborted at reply input line 12.\n\n",
     "output_type": "error",
     "traceback": [
      "syntax error at reply input line 4, near \"->shape[\"\nGlobal symbol \"$X\" requires explicit package name (did you forget to declare \"my $X\"?) at reply input line 5.\nBEGIN not safe after errors--compilation aborted at reply input line 12.\n\n"
     ]
    }
   ],
   "source": [
    "sub synthetic_data{ #@save\n",
    "    my ($w, $b, $num_examples) = shift;\n",
    "    #\"\"\"Generate y = Xw + b + noise.\"\"\"\n",
    "    my $X = mx->nd->random->normal(0, 1, ($num_examples, w->shape[0]));\n",
    "    my $y = mx->nd->dot($X, $w) + $b;\n",
    "    $y += mx->np->random->normal(0, 0.01, $y->shape);\n",
    "    return $X, $y->reshape((-1, 1));\n",
    "}"
   ]
  },
  {
   "cell_type": "code",
   "execution_count": 7,
   "id": "a5cfcab1",
   "metadata": {},
   "outputs": [
    {
     "ename": "Error",
     "evalue": "Undefined subroutine &main::synthetic_data called at reply input line 3.\n",
     "output_type": "error",
     "traceback": [
      "Undefined subroutine &main::synthetic_data called at reply input line 3.\n"
     ]
    }
   ],
   "source": [
    "my $true_w = mx->nd->array([2, -3.4]);\n",
    "my $true_b = 4.2;\n",
    "my ($features, $labels) = synthetic_data($true_w, $true_b, 1000);"
   ]
  },
  {
   "cell_type": "markdown",
   "id": "8a401ba8",
   "metadata": {},
   "source": [
    "Note that each row in features consists of a 2-dimensional data example and that each row in\n",
    "labels consists of a 1-dimensional label value (a scalar)."
   ]
  },
  {
   "cell_type": "code",
   "execution_count": 10,
   "id": "2c712194",
   "metadata": {},
   "outputs": [
    {
     "ename": "Error",
     "evalue": "Global symbol \"@features\" requires explicit package name (did you forget to declare \"my @features\"?) at reply input line 1.\nGlobal symbol \"@labels\" requires explicit package name (did you forget to declare \"my @labels\"?) at reply input line 1.\nBEGIN not safe after errors--compilation aborted at reply input line 5.\n\n",
     "output_type": "error",
     "traceback": [
      "Global symbol \"@features\" requires explicit package name (did you forget to declare \"my @features\"?) at reply input line 1.\nGlobal symbol \"@labels\" requires explicit package name (did you forget to declare \"my @labels\"?) at reply input line 1.\nBEGIN not safe after errors--compilation aborted at reply input line 5.\n\n"
     ]
    }
   ],
   "source": [
    "print 'features:' . dump($features[0]) . '\\nlabel:' . dump($labels[0])"
   ]
  },
  {
   "cell_type": "markdown",
   "id": "d75632ff",
   "metadata": {},
   "source": [
    "By generating a scatter plot using the second feature features[:, 1] and labels, we can clearly\n",
    "observe the linear correlation between the two."
   ]
  },
  {
   "cell_type": "code",
   "execution_count": 11,
   "id": "5be496c1",
   "metadata": {},
   "outputs": [
    {
     "ename": "Warning",
     "evalue": "Semicolon seems to be missing at reply input line 2.\n",
     "output_type": "error",
     "traceback": [
      "Semicolon seems to be missing at reply input line 2.\n"
     ]
    },
    {
     "ename": "Error",
     "evalue": "syntax error at reply input line 3, near \")\n# The semicolon is for displaying the plot only\nd2l\"\nGlobal symbol \"@features\" requires explicit package name (did you forget to declare \"my @features\"?) at reply input line 3.\nBEGIN not safe after errors--compilation aborted at reply input line 7.\n\n",
     "output_type": "error",
     "traceback": [
      "syntax error at reply input line 3, near \")\n# The semicolon is for displaying the plot only\nd2l\"\nGlobal symbol \"@features\" requires explicit package name (did you forget to declare \"my @features\"?) at reply input line 3.\nBEGIN not safe after errors--compilation aborted at reply input line 7.\n\n"
     ]
    }
   ],
   "source": [
    "d2l->set_figsize()\n",
    "# The semicolon is for displaying the plot only\n",
    "d2l->plt->scatter($features[:, (1)].asnumpy(), $labels.asnumpy(), 1);"
   ]
  },
  {
   "cell_type": "markdown",
   "id": "6d388a89",
   "metadata": {},
   "source": [
    "## 3.2.2 Reading the Dataset\n",
    "Recall that training models consists of making multiple passes over the dataset, grabbing one\n",
    "minibatch of examples at a time, and using them to update our model. Since this process is so\n",
    "fundamental to training machine learning algorithms, it is worth defining a utility function to\n",
    "shuffle the dataset and access it in minibatches.\n",
    "\n",
    "In the following code, we define the data_iter function to demonstrate one possible implementation of this functionality. The function takes a batch size, a matrix of features, and a vector of\n",
    "labels, yielding minibatches of the size batch_size. Each minibatch consists of a tuple of features\n",
    "and labels."
   ]
  },
  {
   "cell_type": "code",
   "execution_count": null,
   "id": "0b50fcdf",
   "metadata": {},
   "outputs": [],
   "source": [
    "sub data_iter {\n",
    "    my ($batch_size, $features, $labels) = shift;\n",
    "    my $num_examples = len($features);\n",
    "    my $indices = list(range($num_examples));\n",
    "    # The examples are read at random, in no particular order\n",
    "    random.shuffle($indices);\n",
    "    for $i in range(0, $num_examples, $batch_size){\n",
    "        $batch_indices = mx->np->array($indices[i:min($i + $batch_size, $num_examples)])\n",
    "        yield $features[$batch_indices], $labels[$batch_indices]\n",
    "    }\n",
    "}"
   ]
  },
  {
   "cell_type": "markdown",
   "id": "834e595b",
   "metadata": {},
   "source": [
    "In general, note that we want to use reasonably sized minibatches to take advantage of the GPU\n",
    "hardware, which excels at parallelizing operations. Because each example can be fed through our\n",
    "models in parallel and the gradient of the loss function for each example can also be taken in parallel, GPUs allow us to process hundreds of examples in scarcely more time than it might take\n",
    "to process just a single example.\n",
    "\n",
    "To build some intuition, let us read and print the first small batch of data examples. The shape of\n",
    "the features in each minibatch tells us both the minibatch size and the number of input features.\n",
    "Likewise, our minibatch of labels will have a shape given by batch_size.\n"
   ]
  },
  {
   "cell_type": "code",
   "execution_count": null,
   "id": "bfbdeea3",
   "metadata": {},
   "outputs": [],
   "source": [
    "my $batch_size = 10;\n",
    "for $X, $y in data_iter($batch_size, $features, $labels){\n",
    "    print($X . '\\n' . $y);\n",
    "    last;\n",
    "}"
   ]
  },
  {
   "cell_type": "markdown",
   "id": "0043ba87",
   "metadata": {},
   "source": [
    "As we run the iteration, we obtain distinct minibatches successively until the entire dataset has\n",
    "been exhausted (try this). While the iteration implemented above is good for didactic purposes,\n",
    "it is inefficient in ways that might get us in trouble on real problems. For example, it requires that\n",
    "we load all the data in memory and that we perform lots of random memory access. The built-in\n",
    "iterators implemented in a deep learning framework are considerably more efficient and they can\n",
    "deal with both data stored in files and data fed via data streams.\n",
    "## 3.2.3 Initializing Model Parameters\n",
    "Before we can begin optimizing our modelʼs parameters by minibatch stochastic gradient descent,\n",
    "we need to have some parameters in the first place. In the following code, we initialize weights\n",
    "by sampling random numbers from a normal distribution with mean 0 and a standard deviation\n",
    "of 0.01, and setting the bias to 0."
   ]
  },
  {
   "cell_type": "code",
   "execution_count": null,
   "id": "578182f2",
   "metadata": {},
   "outputs": [],
   "source": [
    "my $w = mx->nd->random->normal(0, 0.01, (2, 1))\n",
    "my $b = mx->nd->zeros(1)\n",
    "$w->attach_grad()\n",
    "$b->attach_grad()"
   ]
  },
  {
   "cell_type": "markdown",
   "id": "e5870d2c",
   "metadata": {},
   "source": [
    "After initializing our parameters, our next task is to update them until they fit our data sufficiently\n",
    "well. Each update requires taking the gradient of our loss function with respect to the parameters.\n",
    "Given this gradient, we can update each parameter in the direction that may reduce the loss.\n",
    "Since nobody wants to compute gradients explicitly (this is tedious and error prone), we use automatic differentiation, as introduced in Section 2.5, to compute the gradient.\n",
    "## 3.2.4 Defining the Model\n",
    "Next, we must define our model, relating its inputs and parameters to its outputs. Recall that to\n",
    "calculate the output of the linear model, we simply take the matrix-vector dot product of the input\n",
    "features **X** and the model weights **w**, and add the offset b to each example. Note that below **Xw** is\n",
    "a vector and *b* is a scalar. Recall the broadcasting mechanism as described in Section 2.1.3. When\n",
    "we add a vector and a scalar, the scalar is added to each component of the vector."
   ]
  },
  {
   "cell_type": "code",
   "execution_count": null,
   "id": "30cb9821",
   "metadata": {},
   "outputs": [],
   "source": [
    "sub linreg{ #@save\n",
    "    my (X, w, b) = shift;\n",
    "    \"\"\"The linear regression model.\"\"\"\n",
    "    return mx->nd->dot($X, $w) + $b;\n",
    "}"
   ]
  },
  {
   "cell_type": "markdown",
   "id": "fb10fbbf",
   "metadata": {},
   "source": [
    "## 3.2.5 Defining the Loss Function\n",
    "Since updating our model requires taking the gradient of our loss function, we ought to define the\n",
    "loss function first. Here we will use the squared loss function as described in Section 3.1. In the\n",
    "implementation, we need to transform the true value y into the predicted valueʼs shape y_hat. The\n",
    "result returned by the following function will also have the same shape as y_hat."
   ]
  },
  {
   "cell_type": "code",
   "execution_count": 12,
   "id": "7d34dbb8",
   "metadata": {},
   "outputs": [
    {
     "ename": "Warning",
     "evalue": "String found where operator expected at reply input line 2, near \"#@save\n    \"\"\"Squared loss.\"\"\n\n\t(Missing operator before \"Squared loss.\"?)\n\nString found where operator expected at reply input line 2, near \"\"Squared loss.\"\"\"\"\n\n\t(Missing operator before \"\"?)\n",
     "output_type": "error",
     "traceback": [
      "String found where operator expected at reply input line 2, near \"#@save\n    \"\"\"Squared loss.\"\"\n\n\t(Missing operator before \"Squared loss.\"?)\n\nString found where operator expected at reply input line 2, near \"\"Squared loss.\"\"\"\"\n\n\t(Missing operator before \"\"?)\n"
     ]
    },
    {
     "ename": "Error",
     "evalue": "Transliteration replacement not terminated at reply input line 3.\n\n",
     "output_type": "error",
     "traceback": [
      "Transliteration replacement not terminated at reply input line 3.\n\n"
     ]
    }
   ],
   "source": [
    "sub squared_loss{ #@save\n",
    "    my ($y_hat, $y) = shift;\n",
    "    \"\"\"Squared loss.\"\"\"\n",
    "    return ($y_hat - $y->reshape($y_hat->shape))**2 / 2;\n",
    "}"
   ]
  },
  {
   "cell_type": "markdown",
   "id": "68c01b7a",
   "metadata": {},
   "source": [
    "## 3.2.6 Defining the Optimization Algorithm\n",
    "As we discussed in Section 3.1, linear regression has a closed-form solution. However, this is not\n",
    "a book about linear regression: it is a book about deep learning. Since none of the other models\n",
    "that this book introduces can be solved analytically, we will take this opportunity to introduce your\n",
    "first working example of minibatch stochastic gradient descent.\n",
    "At each step, using one minibatch randomly drawn from our dataset, we will estimate the gradient\n",
    "of the loss with respect to our parameters. Next, we will update our parameters in the direction\n",
    "that may reduce the loss. The following code applies the minibatch stochastic gradient descent\n",
    "update, given a set of parameters, a learning rate, and a batch size. The size of the update step is\n",
    "determined by the learning rate lr. Because our loss is calculated as a sum over the minibatch of\n",
    "examples, we normalize our step size by the batch size (batch_size), so that the magnitude of a\n",
    "typical step size does not depend heavily on our choice of the batch size."
   ]
  },
  {
   "cell_type": "code",
   "execution_count": null,
   "id": "d5f59059",
   "metadata": {},
   "outputs": [],
   "source": [
    "sub sgd{ #@save\n",
    "    my ($params, $lr, $batch_size) = shift;\n",
    "    \"\"\"Minibatch stochastic gradient descent.\"\"\"\n",
    "    for $param in $params{\n",
    "        $param[:] = $param - $lr * $param->grad / $batch_size;\n",
    "    }\n",
    "}"
   ]
  },
  {
   "cell_type": "markdown",
   "id": "f2b36118",
   "metadata": {},
   "source": [
    "3.2.7 Training\n",
    "Now that we have all of the parts in place, we are ready to implement the main training loop. It\n",
    "is crucial that you understand this code because you will see nearly identical training loops over\n",
    "and over again throughout your career in deep learning.\n",
    "In each iteration, we will grab a minibatch of training examples, and pass them through our model\n",
    "to obtain a set of predictions. After calculating the loss, we initiate the backwards pass through\n",
    "the network, storing the gradients with respect to each parameter. Finally, we will call the opti mization algorithm sgd to update the model parameters.\n",
    "In summary, we will execute the following loop:\n",
    "* Initialize parameters (w, b)\n",
    "* Repeat until done\n",
    "  * Compute gradient $g ← ∂_{(w,b)}\\frac{1}{|B|}∑_{i∈B} l(x^{(i)}, y^{(i)}, w, b)$\n",
    "  * Update parameters $(w, b) ← (w, b) − ηg$\n",
    "\n",
    "In each *epoch*, we will iterate through the entire dataset (using the data_iter function) once passing through every example in the training dataset (assuming that the number of examples is divisible by the batch size). The number of epochs num_epochs and the learning rate lr are both\n",
    "hyperparameters, which we set here to 3 and 0.03, respectively. Unfortunately, setting hyperparameters is tricky and requires some adjustment by trial and error. We elide these details for now\n",
    "but revise them later in Chapter 11."
   ]
  },
  {
   "cell_type": "code",
   "execution_count": null,
   "id": "8dc861d7",
   "metadata": {},
   "outputs": [],
   "source": [
    "my $lr = 0.03;\n",
    "my $num_epochs = 3;\n",
    "my $net = linreg;\n",
    "my $loss = squared_loss;"
   ]
  },
  {
   "cell_type": "code",
   "execution_count": null,
   "id": "735a617f",
   "metadata": {},
   "outputs": [],
   "source": [
    "for $epoch in range($num_epochs){\n",
    "    for $X, $y in data_iter($batch_size, $features, $labels){\n",
    "        with autograd.record():\n",
    "            $l = loss(net($X, $w, $b), $y) # Minibatch loss in `X` and `y`\n",
    "        # Because `l` has a shape (`batch_size`, 1) and is not a scalar\n",
    "        # variable, the elements in `l` are added together to obtain a new\n",
    "        # variable, on which gradients with respect to [`w`, `b`] are computed\n",
    "        $l.backward()\n",
    "        sgd([$w, $b], $lr, $batch_size) # Update parameters using their gradient\n",
    "    }\n",
    "    $train_l = loss(net(features, w, b), labels)\n",
    "    print(\"epoch\" . {epoch + 1} . \", loss \" .{float($train_l->mean()):f})\n",
    "}"
   ]
  },
  {
   "cell_type": "markdown",
   "id": "92a80fd2",
   "metadata": {},
   "source": [
    "In this case, because we synthesized the dataset ourselves, we know precisely what the true parameters are. Thus, we can evaluate our success in training by comparing the true parameters\n",
    "with those that we learned through our training loop. Indeed they turn out to be very close to\n",
    "each other."
   ]
  },
  {
   "cell_type": "code",
   "execution_count": null,
   "id": "8b79cae9",
   "metadata": {},
   "outputs": [],
   "source": [
    "print(\"error in estimating w: \" .{$true_w - $w->reshape($true_w->shape)})\n",
    "print(\"error in estimating b: \" .{$true_b - $b})"
   ]
  },
  {
   "cell_type": "markdown",
   "id": "b8429377",
   "metadata": {},
   "source": [
    "Note that we should not take it for granted that we are able to recover the parameters perfectly.\n",
    "However, in machine learning, we are typically less concerned with recovering true underlying\n",
    "parameters, and more concerned with parameters that lead to highly accurate prediction. For\u0002tunately, even on difficult optimization problems, stochastic gradient descent can often find re\u0002markably good solutions, owing partly to the fact that, for deep networks, there exist many con\u0002figurations of the parameters that lead to highly accurate prediction.\n",
    "\n",
    "Summary\n",
    "* We saw how a deep network can be implemented and optimized from scratch, using just\n",
    "tensors and auto differentiation, without any need for defining layers or fancy optimizers.\n",
    "* This section only scratches the surface of what is possible. In the following sections, we will\n",
    "describe additional models based on the concepts that we have just introduced and learn\n",
    "how to implement them more concisely."
   ]
  }
 ],
 "metadata": {
  "kernelspec": {
   "display_name": "IPerl 0.011",
   "language": "perl",
   "name": "iperl"
  },
  "language_info": {
   "file_extension": ".pl",
   "mimetype": "text/x-perl",
   "name": "perl",
   "version": "5.32.1"
  }
 },
 "nbformat": 4,
 "nbformat_minor": 5
}
