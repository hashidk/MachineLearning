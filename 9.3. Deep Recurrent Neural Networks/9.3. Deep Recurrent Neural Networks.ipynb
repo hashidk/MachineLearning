{
 "cells": [
  {
   "attachments": {},
   "cell_type": "markdown",
   "id": "01ccd769",
   "metadata": {},
   "source": [
    "# 9.3. Deep Recurrent Neural Networks\n",
    "\n",
    ":label:`sec_deep_rnn`\n",
    "\n",
    "Up to now, we only discussed RNNs with a single unidirectional hidden layer.\n",
    "In it the specific functional form of how latent variables and observations interact is rather arbitrary.\n",
    "This is not a big problem as long as we have enough flexibility to model different types of interactions.\n",
    "With a single layer, however, this can be quite challenging.\n",
    "In the case of the linear models,\n",
    "we fixed this problem by adding more layers.\n",
    "Within RNNs this is a bit trickier, since we first need to decide how and where to add extra nonlinearity.\n",
    "\n",
    "In fact,\n",
    "we could stack multiple layers of RNNs on top of each other. This results in a flexible mechanism,\n",
    "due to the combination of several simple layers. In particular, data might be relevant at different levels of the stack. For instance, we might want to keep high-level data about financial market conditions (bear or bull market) available, whereas at a lower level we only record shorter-term temporal dynamics.\n",
    "\n",
    "\n",
    "Beyond all the above abstract discussion \n",
    "it is probably easiest to understand the family of models we are interested in by reviewing :numref:`fig_deep_rnn`. It describes a deep RNN with $L$ hidden layers.\n",
    "Each hidden state is continuously passed to both the next time step of the current layer and the current time step of the next layer.\n",
    "\n",
    "![Architecture of a deep RNN.](https://classic.d2l.ai/_images/deep-rnn.svg)\n",
    ":label:`fig_deep_rnn`\n",
    "\n",
    "## 9.3.1. Functional Dependencies\n",
    "\n",
    "We can formalize the \n",
    "functional dependencies \n",
    "within the  deep architecture\n",
    "of $L$ hidden layers\n",
    "depicted in :numref:`fig_deep_rnn`.\n",
    "Our following discussion focuses primarily on\n",
    "the vanilla RNN model,\n",
    "but it applies to other sequence models, too.\n",
    "\n",
    "Suppose that we have a minibatch input\n",
    "$\\mathbf{X}_t \\in \\mathbb{R}^{n \\times d}$ (number of examples: $n$, number of inputs in each example: $d$) at time step $t$.\n",
    "At the same time step,\n",
    "let\n",
    "the hidden state of the $l^\\mathrm{th}$ hidden layer  ($l=1,\\ldots,L$) be $\\mathbf{H}_t^{(l)}  \\in \\mathbb{R}^{n \\times h}$ (number of hidden units: $h$)\n",
    "and \n",
    "the output layer variable be $\\mathbf{O}_t \\in \\mathbb{R}^{n \\times q}$ (number of outputs: $q$).\n",
    "Setting $\\mathbf{H}_t^{(0)} = \\mathbf{X}_t$,\n",
    "the hidden state of \n",
    "the $l^\\mathrm{th}$ hidden layer\n",
    "that uses the activation function $\\phi_l$\n",
    "is expressed as follows:\n",
    "\n",
    "$$\\mathbf{H}_t^{(l)} = \\phi_l(\\mathbf{H}_t^{(l-1)} \\mathbf{W}_{xh}^{(l)} + \\mathbf{H}_{t-1}^{(l)} \\mathbf{W}_{hh}^{(l)}  + \\mathbf{b}_h^{(l)}),$$\n",
    ":eqlabel:`eq_deep_rnn_H`\n",
    "\n",
    "where the weights $\\mathbf{W}_{xh}^{(l)} \\in \\mathbb{R}^{h \\times h}$ and $\\mathbf{W}_{hh}^{(l)} \\in \\mathbb{R}^{h \\times h}$, together with \n",
    "the bias $\\mathbf{b}_h^{(l)} \\in \\mathbb{R}^{1 \\times h}$, are the model parameters of\n",
    "the $l^\\mathrm{th}$ hidden layer.\n",
    "\n",
    "In the end,\n",
    "the calculation of the output layer is only based on the hidden state of the final $L^\\mathrm{th}$ hidden layer:\n",
    "\n",
    "$$\\mathbf{O}_t = \\mathbf{H}_t^{(L)} \\mathbf{W}_{hq} + \\mathbf{b}_q,$$\n",
    "\n",
    "where the weight $\\mathbf{W}_{hq} \\in \\mathbb{R}^{h \\times q}$ and the bias $\\mathbf{b}_q \\in \\mathbb{R}^{1 \\times q}$ are the model parameters of the output layer.\n",
    "\n",
    "Just as with MLPs, the number of hidden layers $L$ and the number of hidden units $h$ are hyperparameters.\n",
    "In other words, they can be tuned or specified by us.\n",
    "In addition, we can easily\n",
    "get a deep gated RNN\n",
    "by replacing \n",
    "the hidden state computation in \n",
    ":eqref:`eq_deep_rnn_H`\n",
    "with that from a GRU or an LSTM.\n",
    "\n",
    "\n",
    "## 9.3.2. Concise Implementation\n",
    "\n",
    "Fortunately many of the logistical details required to implement multiple layers of an RNN are readily available in high-level APIs.\n",
    "To keep things simple we only illustrate the implementation using such built-in functionalities.\n",
    "Let us take an LSTM model as an example.\n",
    "The code is very similar to the one we used previously in :numref:`sec_lstm`.\n",
    "In fact, the only difference is that we specify the number of layers explicitly rather than picking the default of a single layer. \n",
    "As usual, we begin by loading the dataset.\n"
   ]
  },
  {
   "cell_type": "code",
   "execution_count": 1,
   "id": "ecef4325",
   "metadata": {},
   "outputs": [],
   "source": [
    "use strict;\n",
    "use warnings;\n",
    "use Data::Dump qw(dump);\n",
    "use AI::MXNet qw(mx);\n",
    "use d2l;\n",
    "use d2l::Vocab;\n",
    "use d2l::SeqDataLoader;\n",
    "use d2l::Timer;\n",
    "use d2l::Animator;\n",
    "use d2l::Accumulator;\n",
    "IPerl->load_plugin('Chart::Plotly'); # Jupyter\n",
    "#import Chart::Plotly 'show_plot'; # localmente"
   ]
  },
  {
   "cell_type": "code",
   "execution_count": 2,
   "id": "f267b6f4",
   "metadata": {},
   "outputs": [
    {
     "data": {
      "text/plain": [
       "CODE(0xc203338)Vocab=HASH(0xc2875a8)"
      ]
     },
     "execution_count": 2,
     "metadata": {},
     "output_type": "execute_result"
    }
   ],
   "source": [
    "my ($batch_size, $num_steps) = (32, 35);\n",
    "my ($train_iter, $vocab) = d2l->load_data_time_machine($batch_size, $num_steps);"
   ]
  },
  {
   "cell_type": "markdown",
   "id": "f00fddee",
   "metadata": {},
   "source": [
    "The architectural decisions such as choosing hyperparameters are very similar to those of :numref:`sec_lstm`. \n",
    "We pick the same number of inputs and outputs as we have distinct tokens, i.e., `vocab_size`.\n",
    "The number of hidden units is still 256.\n",
    "The only difference is that we now select a nontrivial number of hidden layers by specifying the value of `num_layers`.\n"
   ]
  },
  {
   "cell_type": "code",
   "execution_count": 3,
   "id": "1b44a6c4",
   "metadata": {},
   "outputs": [],
   "source": [
    "#@save\n",
    "package RNNModel {\n",
    "    use base qw(AI::MXNet::Gluon::Block);\n",
    "    use strict; \n",
    "    use warnings;\n",
    "    use Data::Dump qw(dump);\n",
    "    use AI::MXNet qw(mx);\n",
    "    use AI::MXNet::Gluon qw(gluon);\n",
    "    \n",
    "    #The RNN model.\n",
    "    \n",
    "    sub new {\n",
    "        my ($class,  $rnn_layer, $vocab_size, %kwargs) = (shift, @_);\n",
    "        my $self = $class->SUPER::new(%kwargs);\n",
    "        \n",
    "        $self->{rnn} = $rnn_layer;\n",
    "        $self->{vocab_size} = $vocab_size;\n",
    "        $self->{dense} = mx->gluon->nn->Dense($vocab_size);\n",
    "        \n",
    "        foreach my $name('rnn', 'dense'){\n",
    "            if( defined $name){\n",
    "                $self->register_child($self->{$name});\n",
    "            }\n",
    "        }\n",
    "        \n",
    "        return bless($self, $class);\n",
    "    }\n",
    "    \n",
    "    sub forward{\n",
    "        my ($self, $inputs, $state) = @_;\n",
    "        my $X =  mx->nd->one_hot($inputs->T, $self->{vocab_size});\n",
    "        my $Y;\n",
    "        ($Y, $state) = @{$self->{rnn}->forward($X, $state)};\n",
    "        # The fully-connected layer will first change the shape of `Y` to\n",
    "        # (`num_steps` * `batch_size`, `num_hiddens`). Its output shape is\n",
    "        # (`num_steps` * `batch_size`, `vocab_size`).\n",
    "        my $output = $self->{dense}->($Y->reshape([-1, $Y->shape->[-1]]));\n",
    "        return ($output, $state);\n",
    "    }\n",
    "    \n",
    "    sub begin_state{\n",
    "        my ($self, $args) = @_;\n",
    "        return $self->{rnn}->begin_state($args);\n",
    "    }\n",
    "}"
   ]
  },
  {
   "cell_type": "code",
   "execution_count": 4,
   "id": "28966702",
   "metadata": {},
   "outputs": [
    {
     "data": {
      "text/plain": [
       "RNNModel(\n",
       "\n",
       ")"
      ]
     },
     "execution_count": 4,
     "metadata": {},
     "output_type": "execute_result"
    }
   ],
   "source": [
    "my ($vocab_size, $num_hiddens, $num_layers) = ($vocab->len, 256, 2);\n",
    "my $device = d2l->try_gpu();\n",
    "my $lstm_layer = mx->gluon->rnn->LSTM($num_hiddens, $num_layers);\n",
    "#my $model = d2l->RNNModel($lstm_layer, $vocab->len);\n",
    "my $model = RNNModel->new($lstm_layer, $vocab->len);"
   ]
  },
  {
   "cell_type": "markdown",
   "id": "ac99fa07",
   "metadata": {},
   "source": [
    "## Training and Prediction\n",
    "\n",
    "Since now we instantiate two layers with the LSTM model, this rather more complex architecture slows down training considerably."
   ]
  },
  {
   "cell_type": "code",
   "execution_count": null,
   "id": "8e2c0532",
   "metadata": {},
   "outputs": [],
   "source": [
    "my ($num_epochs, $lr) = (100, 2);\n",
    "my ($model_file_name, $is_train, $animator) = ('GoogLeNet.mdl', 1);\n",
    "if ($is_train){\n",
    "  $animator = d2l->train_ch8($model, $train_iter, $vocab, $lr, $num_epochs, $device);\n",
    "  $model->save_parameters($model_file_name);\n",
    "  $animator->plot;\n",
    "\n",
    "}else{\n",
    "  $model->load_parameters($model_file_name);\n",
    "}"
   ]
  },
  {
   "cell_type": "markdown",
   "id": "a32b43ed",
   "metadata": {},
   "source": [
    "## 9.3.4. Summary\n",
    "\n",
    "* In deep RNNs, the hidden state information is passed to the next time step of the current layer and the current time step of the next layer.\n",
    "* There exist many different flavors of deep RNNs, such as LSTMs, GRUs, or vanilla RNNs. Conveniently these models are all available as parts of the high-level APIs of deep learning frameworks.\n",
    "* Initialization of models requires care. Overall, deep RNNs require considerable amount of work (such as learning rate and clipping) to ensure proper convergence.\n",
    "\n",
    "## 9.3.5. Exercises\n",
    "\n",
    "1. Try to implement a two-layer RNN from scratch using the single layer implementation we discussed in :numref:`sec_rnn_scratch`.\n",
    "2. Replace the LSTM by a GRU and compare the accuracy and training speed.\n",
    "3. Increase the training data to include multiple books. How low can you go on the perplexity scale?\n",
    "4. Would you want to combine sources of different authors when modeling text? Why is this a good idea? What could go wrong?\n"
   ]
  }
 ],
 "metadata": {
  "kernelspec": {
   "display_name": "IPerl 0.011",
   "language": "perl",
   "name": "iperl"
  },
  "language_info": {
   "file_extension": ".pl",
   "mimetype": "text/x-perl",
   "name": "perl",
   "version": "5.32.1"
  }
 },
 "nbformat": 4,
 "nbformat_minor": 5
}
