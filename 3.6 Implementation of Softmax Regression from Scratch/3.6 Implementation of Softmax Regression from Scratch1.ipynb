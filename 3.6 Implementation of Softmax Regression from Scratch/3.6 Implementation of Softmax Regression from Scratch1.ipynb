{
 "cells": [
  {
   "cell_type": "markdown",
   "id": "fc0f6a99",
   "metadata": {},
   "source": [
    "# 3.6 Implementation of Softmax Regression from Scratch\n",
    "Just as we implemented linear regression from scratch, we believe that softmax regression is similarly fundamental and you ought to know the gory details of\n",
    "how to implement it yourself. We will work with the Fashion-MNIST dataset, just introduced in\n",
    "Section 3.5, setting up a data iterator with batch size 256."
   ]
  },
  {
   "cell_type": "code",
   "execution_count": 1,
   "id": "c1609540",
   "metadata": {},
   "outputs": [],
   "source": [
    "use strict;\n",
    "use warnings;\n",
    "use Data::Dump qw(dump);\n",
    "use AI::MXNet qw(mx);\n",
    "use AI::MXNet::Gluon qw(gluon);\n",
    "use d2l;\n",
    "use d2l::Accumulator;\n",
    "use d2l::Animator;\n",
    "use List::Util qw(min max shuffle);\n",
    "use Scalar::Util qw(blessed );\n",
    "IPerl->load_plugin('Chart::Plotly');\n",
    "use Cwd 'abs_path';"
   ]
  },
  {
   "cell_type": "code",
   "execution_count": 2,
   "id": "c30121b1",
   "metadata": {},
   "outputs": [
    {
     "data": {
      "text/plain": [
       "CODE(0xacbd2a0)"
      ]
     },
     "execution_count": 2,
     "metadata": {},
     "output_type": "execute_result"
    }
   ],
   "source": [
    "my $batch_size = 256;\n",
    "\n",
    "my $transform = sub {my ($data, $label) = @_;                 \n",
    "                       return ($data->reshape([-1, 28, 28])->astype('float32') / 255, $label)};"
   ]
  },
  {
   "cell_type": "code",
   "execution_count": 3,
   "id": "ed75c5fb",
   "metadata": {},
   "outputs": [
    {
     "data": {
      "text/plain": [
       "AI::MXNet::Gluon::Data::Vision::DownloadedDataSet::FashionMNIST=HASH(0xacc4c90)"
      ]
     },
     "execution_count": 3,
     "metadata": {},
     "output_type": "execute_result"
    }
   ],
   "source": [
    "my $data_train = gluon->data->vision->FashionMNIST('~/.mxnet/datasets/fashion-mnist', train => 1);\n",
    "my $data_test  = gluon->data->vision->FashionMNIST('~/.mxnet/datasets/fashion-mnist',  train => 0);"
   ]
  },
  {
   "cell_type": "code",
   "execution_count": 4,
   "id": "a266057d",
   "metadata": {},
   "outputs": [
    {
     "data": {
      "text/plain": [
       "<AI::MXNet::NDArray 10000x28x28 @cpu(0)><AI::MXNet::NDArray 10000 @cpu(0)>"
      ]
     },
     "execution_count": 4,
     "metadata": {},
     "output_type": "execute_result"
    }
   ],
   "source": [
    "my ($X_train, $y_train) = $transform->($data_train->{data}, mx->nd->array($data_train->{label}));\n",
    "my ($X_test, $y_test)   = $transform->($data_test->{data} , mx->nd->array($data_test->{label}));"
   ]
  },
  {
   "cell_type": "code",
   "execution_count": 5,
   "id": "9b86c6eb",
   "metadata": {},
   "outputs": [],
   "source": [
    "sub data_iter_sequential{ # Optimized for sequential minibatches\n",
    "  my ($features, $labels, $batch_size) = @_;\n",
    "  my $num_samples = $features->len;\n",
    "  my @indices = (0 .. $num_samples - 1);\n",
    "  my ($index, @batch_indices) = 0;\n",
    "\n",
    "  return sub {\n",
    "    if (defined $_[0] && $_[0] == 0){# Reset\n",
    "      $index = 0;\n",
    "      return 1;\n",
    "    }\n",
    "    return undef if ($index >= $num_samples);\n",
    "    @batch_indices = @indices[$index .. min($index + $batch_size, $num_samples) - 1];\n",
    "    $index += $batch_size;\n",
    "    return {data  => $features->slice([$batch_indices[0], $batch_indices[-1]]), \n",
    "            label => $labels->slice([$batch_indices[0], $batch_indices[-1]])};\n",
    "  };\n",
    "}"
   ]
  },
  {
   "cell_type": "code",
   "execution_count": 6,
   "id": "3af14f31",
   "metadata": {},
   "outputs": [
    {
     "data": {
      "text/plain": [
       "CODE(0xb4a1710)"
      ]
     },
     "execution_count": 6,
     "metadata": {},
     "output_type": "execute_result"
    }
   ],
   "source": [
    "my $train_iter = data_iter_sequential($X_train, $y_train, $batch_size);\n",
    "my $test_iter  = data_iter_sequential($X_test, $y_test, $batch_size);"
   ]
  },
  {
   "cell_type": "markdown",
   "id": "628ee4bd",
   "metadata": {},
   "source": [
    "We use the Fashion-MNIST data set with batch size 256."
   ]
  },
  {
   "cell_type": "markdown",
   "id": "b0e6890e",
   "metadata": {},
   "source": [
    "## 3.6.1 Initializing Model Parameters\n",
    "As in our linear regression example, each example here will be represented by a fixed-length vector. Each example in the raw dataset is a 28×28 image. In this section, we will flatten each image,\n",
    "treating them as vectors of length 784. In the future, we will talk about more sophisticated strategies for exploiting the spatial structure in images, but for now we treat each pixel location as just\n",
    "another feature.\n",
    "\n",
    "Recall that in softmax regression, we have as many outputs as there are classes. Because our\n",
    "dataset has 10 classes, our network will have an output dimension of 10. Consequently, our weights will constitute a 784 × 10 matrix and the biases will constitute a 1 × 10 row vector. As with linear\n",
    "regression, we will initialize our weights W with Gaussian noise and our biases to take the initial\n",
    "value 0."
   ]
  },
  {
   "cell_type": "code",
   "execution_count": 7,
   "id": "a2e36c93",
   "metadata": {},
   "outputs": [],
   "source": [
    "##num_inputs = 784\n",
    "##num_outputs = 10\n",
    "\n",
    "##W = nd.random.normal(scale=0.01, shape=(num_inputs, num_outputs))\n",
    "## b = nd.zeros(num_outputs)\n",
    "##W.attach_grad()\n",
    "##b.attach_grad()\n",
    "\n",
    "my $num_inputs = 784;\n",
    "my $num_outputs = 10;\n",
    "\n",
    "our $W = mx->nd->random_normal(0, 0.01, [$num_inputs,$num_outputs]);\n",
    "our $b = mx->nd->zeros([$num_outputs]);\n",
    "\n",
    "$W->attach_grad();\n",
    "$b->attach_grad();"
   ]
  },
  {
   "cell_type": "markdown",
   "id": "21f9fafc",
   "metadata": {},
   "source": [
    "## 3.6.2 Defining the Softmax Operation\n",
    "Before implementing the softmax regression model, let us briefly review how the sum operator\n",
    "works along specific dimensions in a tensor, as discussed in Section 2.3.6 and Section 2.3.6. Given\n",
    "a matrix X we can sum over all elements (by default) or only over elements in the same axis, i.e.,\n",
    "the same column (axis 0) or the same row (axis 1). Note that if X is a tensor with shape (2, 3) and we\n",
    "sum over the columns, the result will be a vector with shape (3,). When invoking the sum operator,\n",
    "we can specify to keep the number of axes in the original tensor, rather than collapsing out the\n",
    "dimension that we summed over. This will result in a two-dimensional tensor with shape (1, 3)."
   ]
  },
  {
   "cell_type": "code",
   "execution_count": 8,
   "id": "6665cb08",
   "metadata": {},
   "outputs": [
    {
     "name": "stdout",
     "output_type": "stream",
     "text": [
      "\n",
      "[[5, 7, 9]]"
     ]
    },
    {
     "data": {
      "text/plain": [
       "1"
      ]
     },
     "execution_count": 8,
     "metadata": {},
     "output_type": "execute_result"
    }
   ],
   "source": [
    "##X = np.array([[1.0, 2.0, 3.0], [4.0, 5.0, 6.0]])\n",
    "##X.sum(0, keepdims=True), X.sum(1, keepdims=True)\n",
    "my $X = mx->nd->array([[1.0, 2.0, 3.0], [4.0, 5.0, 6.0]]);\n",
    "my $sum_X = $X->sum(axis => 0, keepdims => 1), $X->sum(axis => 1, keepdims => 1);\n",
    "print \"\\n\", dump $sum_X->asarray;"
   ]
  },
  {
   "cell_type": "markdown",
   "id": "e504f373",
   "metadata": {},
   "source": [
    "We are now ready to implement the softmax operation. Recall that softmax consists of three steps:\n",
    "i) we exponentiate each term (using exp); ii) we sum over each row (we have one row per example\n",
    "in the batch) to get the normalization constant for each example; iii) we divide each row by its\n",
    "normalization constant, ensuring that the result sums to 1. Before looking at the code, let us\n",
    "recall how this looks expressed as an equation:\n",
    "$$softmax(X)_{ij} = \\frac{exp(X_{ij})}{∑_kexp(X_{ik})} .  (3.6.1)$$ \n",
    "\n",
    "The denominator, or normalization constant, is also sometimes called the partition function (and\n",
    "its logarithm is called the log-partition function). The origins of that name are in statistical\n",
    "physics57 where a related equation models the distribution over an ensemble of particles."
   ]
  },
  {
   "cell_type": "code",
   "execution_count": 9,
   "id": "94e6ae48",
   "metadata": {},
   "outputs": [],
   "source": [
    "##def softmax(X):\n",
    "  ##  X_exp = np.exp(X)\n",
    "    ##partition = X_exp.sum(1, keepdims=True)\n",
    "    ##return X_exp / partition # The broadcasting mechanism is applied here\n",
    "sub softmax{\n",
    "    my ($X) = @_;\n",
    "    my $X_exp = mx->nd->exp($X);\n",
    "    my $partition = $X_exp->sum(axis => 1, keepdims => 1); \n",
    "    return $X_exp / $partition; # The broadcasting mechanism is applied here\n",
    "}"
   ]
  },
  {
   "cell_type": "markdown",
   "id": "4681cf69",
   "metadata": {},
   "source": [
    "As you can see, for any random input, we turn each element into a non-negative number. Moreover, each row sums up to 1, as is required for a probability.\n"
   ]
  },
  {
   "cell_type": "code",
   "execution_count": 10,
   "id": "74b90135",
   "metadata": {},
   "outputs": [
    {
     "name": "stdout",
     "output_type": "stream",
     "text": [
      "[1.00000011920929, 1]"
     ]
    },
    {
     "data": {
      "text/plain": [
       "1"
      ]
     },
     "execution_count": 10,
     "metadata": {},
     "output_type": "execute_result"
    }
   ],
   "source": [
    "##X = np.random.normal(0, 1, (2, 5))\n",
    "##X_prob = softmax(X)\n",
    "##X_prob, X_prob.sum(1)\n",
    "$X = mx->nd->random_normal(0, 1, shape=>[2, 5]);\n",
    "my $X_prob = softmax($X);\n",
    "print dump $X_prob->sum(1)->asarray;"
   ]
  },
  {
   "cell_type": "markdown",
   "id": "c7c16d0a",
   "metadata": {},
   "source": [
    "Note that while this looks correct mathematically, we were a bit sloppy in our implementation\n",
    "because we failed to take precautions against numerical overflow or underflow due to large or\n",
    "very small elements of the matrix.\n",
    "## 3.6.3 Defining the Model\n",
    "Now that we have defined the softmax operation, we can implement the softmax regression model.\n",
    "The below code defines how the input is mapped to the output through the network. Note that we\n",
    "flatten each original image in the batch into a vector using the reshape function before passing\n",
    "the data through our model."
   ]
  },
  {
   "cell_type": "code",
   "execution_count": 11,
   "id": "2f54bee0",
   "metadata": {
    "scrolled": true
   },
   "outputs": [],
   "source": [
    "##def net(X):\n",
    "  ##  return softmax(nd.dot(X.reshape((-1, num_inputs)), W) + b)\n",
    "\n",
    "sub net{\n",
    "    my ($X) = @_;\n",
    "    our $W;\n",
    "    return softmax(mx->nd->dot($X->reshape([-1, $W->shape->[0]]), $W) + $b);\n",
    "}\n"
   ]
  },
  {
   "cell_type": "markdown",
   "id": "2dc8665d",
   "metadata": {},
   "source": [
    "## 3.6.4 Defining the Loss Function\n",
    "Next, we need to implement the cross-entropy loss function, as introduced in Section 3.4. This\n",
    "may be the most common loss function in all of deep learning because, at the moment, classification problems far outnumber regression problems.\n",
    "\n",
    "Recall that cross-entropy takes the negative log-likelihood of the predicted probability assigned to\n",
    "the true label. Rather than iterating over the predictions with a Python for-loop (which tends to\n",
    "be inefficient), we can pick all elements by a single operator. Below, we create sample data y_hat\n",
    "with 2 examples of predicted probabilities over 3 classes and their corresponding labels y. With y\n",
    "we know that in the first example the first class is the correct prediction and in the second example\n",
    "the third class is the ground-truth. Using y as the indices of the probabilities in y_hat, we pick the\n",
    "probability of the first class in the first example and the probability of the third class in the second\n",
    "example.\n"
   ]
  },
  {
   "cell_type": "code",
   "execution_count": 12,
   "id": "4e39a770",
   "metadata": {},
   "outputs": [
    {
     "name": "stdout",
     "output_type": "stream",
     "text": [
      "[0.100000001490116, 0.5]"
     ]
    },
    {
     "data": {
      "text/plain": [
       "1"
      ]
     },
     "execution_count": 12,
     "metadata": {},
     "output_type": "execute_result"
    }
   ],
   "source": [
    "##y = np.array([0, 2])\n",
    "##y_hat = np.array([[0.1, 0.3, 0.6], [0.3, 0.2, 0.5]])\n",
    "##y_hat[[0, 1], y]\n",
    "my $y = mx->nd->array([0, 2]);\n",
    "my $y_hat = mx->nd->array([[0.1, 0.3, 0.6], [0.3, 0.2, 0.5]]);\n",
    "my $aux = mx->nd->array([0,1]);\n",
    "print dump $y_hat->slice([$aux, $y])->asarray;"
   ]
  },
  {
   "cell_type": "markdown",
   "id": "f3f92085",
   "metadata": {},
   "source": [
    "Now we can implement the cross-entropy loss function efficiently with just one line of code."
   ]
  },
  {
   "cell_type": "code",
   "execution_count": 13,
   "id": "a2757373",
   "metadata": {},
   "outputs": [
    {
     "data": {
      "text/plain": [
       "<AI::MXNet::NDArray 2x3 @cpu(0)>"
      ]
     },
     "execution_count": 13,
     "metadata": {},
     "output_type": "execute_result"
    }
   ],
   "source": [
    "##def cross_entropy(y_hat, y):\n",
    "  ##  return -np.log(y_hat[range(len(y_hat)), y])\n",
    "\n",
    "##cross_entropy(y_hat, y)\n",
    "sub cross_entropy{\n",
    "    my ($y_hat, $y) = @_;\n",
    "    my $len = $y_hat->len - 1;\n",
    "    return -(mx->nd->log($y_hat->slice([0, $len])));\n",
    "}\n",
    "cross_entropy($y_hat, $y);"
   ]
  },
  {
   "cell_type": "markdown",
   "id": "ee7dce38",
   "metadata": {},
   "source": [
    "## 3.6.5 Classification Accuracy\n",
    "Given the predicted probability distribution y_hat, we typically choose the class with the highest\n",
    "predicted probability whenever we must output a hard prediction. Indeed, many applications\n",
    "require that we make a choice. Gmail must categorize an email into “Primary”, “Social”, “Updates”,\n",
    "or “Forums”. It might estimate probabilities internally, but at the end of the day it has to choose\n",
    "one among the classes.\n",
    "\n",
    "When predictions are consistent with the label class y, they are correct. The classification accuracy is the fraction of all predictions that are correct. Although it can be difficult to optimize\n",
    "accuracy directly (it is not differentiable), it is often the performance measure that we care most\n",
    "about, and we will nearly always report it when training classifiers.\n",
    "\n",
    "To compute accuracy we do the following. First, if y_hat is a matrix, we assume that the second\n",
    "dimension stores prediction scores for each class. We use argmax to obtain the predicted class by\n",
    "the index for the largest entry in each row. Then we compare the predicted class with the groundtruth y elementwise. Since the equality operator == is sensitive to data types, we convert y_hatʼs\n",
    "data type to match that of y. The result is a tensor containing entries of 0 (false) and 1 (true).\n",
    "Taking the sum yields the number of correct predictions."
   ]
  },
  {
   "cell_type": "code",
   "execution_count": 14,
   "id": "e77a3179",
   "metadata": {},
   "outputs": [],
   "source": [
    "##def accuracy(y_hat, y): #@save\n",
    "  ##  \"\"\"Compute the number of correct predictions.\"\"\"\n",
    "    ##if len(y_hat.shape) > 1 and y_hat.shape[1] > 1:\n",
    "      ##  y_hat = y_hat.argmax(axis=1)\n",
    "    ##cmp = y_hat.astype(y.dtype) == y\n",
    "    ##return float(cmp.astype(y.dtype).sum())\n",
    "sub accuracy{ #@save\n",
    "    #Compute the number of correct predictions.\"\"\"\n",
    "    my($y_hat, $y) =@_;\n",
    "    \n",
    "    if (scalar @{$y_hat->shape} > 1 && $y_hat->shape->[1] > 1){\n",
    "        $y_hat = $y_hat->argmax(axis => 1);\n",
    "    }\n",
    "        \n",
    "    my $cmp = ($y_hat->astype($y->dtype) == $y);\n",
    "    return $cmp->sum->asscalar;\n",
    "}\n",
    "\n",
    "    \n",
    "    "
   ]
  },
  {
   "cell_type": "markdown",
   "id": "d7ff7693",
   "metadata": {},
   "source": [
    "We will continue to use the variables y_hat and y defined before as the predicted probability distributions and labels, respectively. We can see that the first exampleʼs prediction class is 2 (the\n",
    "largest element of the row is 0.6 with the index 2), which is inconsistent with the actual label, 0.\n",
    "The second exampleʼs prediction class is 2 (the largest element of the row is 0.5 with the index of\n",
    "2), which is consistent with the actual label, 2. Therefore, the classification accuracy rate for these\n",
    "two examples is 0.5."
   ]
  },
  {
   "cell_type": "code",
   "execution_count": 15,
   "id": "8dd494b6",
   "metadata": {},
   "outputs": [
    {
     "name": "stdout",
     "output_type": "stream",
     "text": [
      "0.5"
     ]
    },
    {
     "data": {
      "text/plain": [
       "1"
      ]
     },
     "execution_count": 15,
     "metadata": {},
     "output_type": "execute_result"
    }
   ],
   "source": [
    "##accuracy(y_hat, y) / len(y)\n",
    "print accuracy($y_hat, $y) / $y->len;"
   ]
  },
  {
   "cell_type": "markdown",
   "id": "665ae7b6",
   "metadata": {},
   "source": [
    "Similarly, we can evaluate the accuracy for any model net on a dataset that is accessed via the data\n",
    "iterator data_iter."
   ]
  },
  {
   "cell_type": "code",
   "execution_count": 16,
   "id": "cf485026",
   "metadata": {},
   "outputs": [],
   "source": [
    "sub evaluate_accuracy{\n",
    "    my ($net, $data_iter) = @_;#@save\n",
    "    ##\"\"\"Compute the accuracy for a model on a dataset.\"\"\"\n",
    "    my $metric = Accumulator->new(2); # No. of correct predictions, no. of predictions\n",
    "    my ($X, $y, $accuracy);\n",
    "    while (defined(my $batch = $data_iter->())){\n",
    "        $X = $batch->{data};\n",
    "        $y = $batch->{label}->astype('float32');\n",
    "        $accuracy = accuracy($net->($X), $y);\n",
    "        $metric->add([ $accuracy, $y->size]);\n",
    "    }\n",
    "    print \"Ninguna predición:\", $metric->getitem(0);\n",
    "    return ($metric->getitem(0) / $metric->getitem(1));\n",
    "} "
   ]
  },
  {
   "cell_type": "markdown",
   "id": "9a9ca476",
   "metadata": {},
   "source": [
    "Here Accumulator is a utility class to accumulate sums over multiple variables. In the above evaluate_accuracy function, we create 2 variables in the Accumulator instance for storing both the\n",
    "number of correct predictions and the number of predictions, respectively. Both will be accumulated over time as we iterate over the dataset."
   ]
  },
  {
   "cell_type": "markdown",
   "id": "22756407",
   "metadata": {},
   "source": [
    "Because we initialized the net model with random weights, the accuracy of this model should be\n",
    "close to random guessing, i.e., 0.1 for 10 classes."
   ]
  },
  {
   "cell_type": "code",
   "execution_count": 17,
   "id": "5db2ca91",
   "metadata": {},
   "outputs": [
    {
     "name": "stdout",
     "output_type": "stream",
     "text": [
      "Ninguna predición:925"
     ]
    },
    {
     "data": {
      "text/plain": [
       "0.0925"
      ]
     },
     "execution_count": 17,
     "metadata": {},
     "output_type": "execute_result"
    }
   ],
   "source": [
    "##evaluate_accuracy(net, test_iter)\n",
    "evaluate_accuracy(\\&net, $test_iter);"
   ]
  },
  {
   "cell_type": "markdown",
   "id": "76b3c42e",
   "metadata": {},
   "source": [
    "## 3.6.6 Training\n",
    "The training loop for softmax regression should look strikingly familiar if you read through our\n",
    "implementation of linear regression in Section 3.2. Here we refactor the implementation to make\n",
    "it reusable. First, we define a function to train for one epoch. Note that updater is a general\n",
    "function to update the model parameters, which accepts the batch size as an argument. It can be\n",
    "either a wrapper of the d2l.sgd function or a frameworkʼs built-in optimization function."
   ]
  },
  {
   "cell_type": "code",
   "execution_count": 18,
   "id": "5caa6735",
   "metadata": {},
   "outputs": [],
   "source": [
    "sub train_epoch_ch3{ #@save\n",
    "    my ($net, $train_iter, $loss, $updater) = @_;\n",
    "    my $metric = Accumulator->new(3);\n",
    "    if ($updater->isa('AI::MXNet::Gluon::Trainer') == 1){\n",
    "        $updater = $updater->step\n",
    "    }\n",
    "    \n",
    "    my ($X, $y, $y_hat, $accuracy, $l);\n",
    "    while (defined(my $batch = $train_iter->())){\n",
    "        $X = $batch->{data};\n",
    "        $y = $batch->{label}->astype('float32');\n",
    "    \n",
    "        mx->autograd->record(sub {\n",
    "            $y_hat = $net->($X);\n",
    "            $l = cross_entropy($y_hat, $y);\n",
    "            $l->backward;\n",
    "        });\n",
    "        \n",
    "        $updater->($X->shape->[0]);\n",
    "        $accuracy = accuracy($y_hat, $y);\n",
    "        $metric->add([$l->sum()->astype('float32'), $accuracy, $y->size])\n",
    "    }\n",
    "\n",
    "    return ($metric->getitem(0) / $metric->getitem(2), $metric->getitem(1) / $metric->getitem(2));\n",
    "}"
   ]
  },
  {
   "cell_type": "markdown",
   "id": "049b8907",
   "metadata": {},
   "source": [
    "Before showing the implementation of the training function, we define a utility class that plot data\n",
    "in animation. Again, it aims to simplify code in the rest of the book."
   ]
  },
  {
   "cell_type": "markdown",
   "id": "98c432b1",
   "metadata": {},
   "source": [
    "The following training function then trains a model net on a training dataset accessed via\n",
    "train_iter for multiple epochs, which is specified by num_epochs. At the end of each epoch, the\n",
    "model is evaluated on a testing dataset accessed via test_iter. We will leverage the Animator class\n",
    "to visualize the training progress."
   ]
  },
  {
   "cell_type": "code",
   "execution_count": 19,
   "id": "610151f7",
   "metadata": {},
   "outputs": [],
   "source": [
    "##def train_ch3(net, train_iter, test_iter, loss, num_epochs, updater): #@save\n",
    "  ##  \"\"\"Train a model (defined in Chapter 3).\"\"\"\n",
    "    ##animator = Animator(xlabel='epoch', xlim=[1, num_epochs], ylim=[0.3, 0.9],\n",
    "     ##           legend=['train loss', 'train acc', 'test acc'])\n",
    "   ## for epoch in range(num_epochs):\n",
    "     ##   train_metrics = train_epoch_ch3(net, train_iter, loss, updater)\n",
    "       ## test_acc = evaluate_accuracy(net, test_iter)\n",
    "        ##animator.add(epoch + 1, train_metrics + (test_acc,))\n",
    "  ##  train_loss, train_acc = train_metrics\n",
    "    \n",
    "    ##assert train_loss < 0.5, train_loss\n",
    "    ##assert train_acc <= 1 and train_acc > 0.7, train_acc\n",
    "    ##assert test_acc <= 1 and test_acc > 0.7, test_acc\n",
    "\n",
    "sub assertFunc{\n",
    "    my ($cond, $print) = @_;\n",
    "    if ($cond != 1){\n",
    "        print $print.\"\\n\";\n",
    "    }\n",
    "}\n",
    "\n",
    "sub train_ch3{ #@save\n",
    "    my ($net, $train_iter, $test_iter, $loss, $num_epochs, $updater) = @_;\n",
    "    my $animator = Animator(xlabel=>'epoch', xlim=>[1, $num_epochs], ylim=>[0.3, 0.9], legend=>['train loss', 'train acc', 'test acc']);\n",
    "    \n",
    "    my ($train_metrics, $test_acc);\n",
    "    for my $epoch (0..$num_epochs){\n",
    "        $train_metrics = train_epoch_ch3(\\&net, $train_iter, $loss, $updater);\n",
    "        $test_acc = evaluate_accuracy(\\&net, $test_iter);\n",
    "        $animator->add($epoch + 1, $train_metrics + ($test_acc,));\n",
    "    }  \n",
    "    \n",
    "    my ($train_loss, $train_acc) = $train_metrics;\n",
    "    \n",
    "    assertFunc($train_loss < 0.5, $train_loss);\n",
    "    assertFunc($train_acc <= 1 and $train_acc > 0.7, $train_acc);\n",
    "    assertFunc($test_acc <= 1 and $test_acc > 0.7, $test_acc);\n",
    "}"
   ]
  },
  {
   "cell_type": "markdown",
   "id": "36ac2e88",
   "metadata": {},
   "source": [
    "As an implementation from scratch, we use the minibatch stochastic gradient descent defined in\n",
    "Section 3.2 to optimize the loss function of the model with a learning rate 0.1."
   ]
  },
  {
   "cell_type": "code",
   "execution_count": 20,
   "id": "772994b6",
   "metadata": {},
   "outputs": [
    {
     "data": {
      "text/plain": [
       "0.1"
      ]
     },
     "execution_count": 20,
     "metadata": {},
     "output_type": "execute_result"
    }
   ],
   "source": [
    "##lr = 0.1\n",
    "\n",
    "##def updater(batch_size):\n",
    "  ##  return d2l.sgd([W, b], lr, batch_size)\n",
    "    \n",
    "our $lr = 0.1;\n",
    "\n",
    "sub updater{\n",
    "    our $W;\n",
    "    my ($batch_size) = @_;\n",
    "    return d2l->sgd([$W, $b], learning_rate=>$lr, $batch_size);\n",
    "}"
   ]
  },
  {
   "cell_type": "markdown",
   "id": "af9dbcb7",
   "metadata": {},
   "source": [
    "Now we train the model with 10 epochs. Note that both the number of epochs (num_epochs), and\n",
    "learning rate (lr) are adjustable hyperparameters. By changing their values, we may be able to\n",
    "increase the classification accuracy of the model."
   ]
  },
  {
   "cell_type": "code",
   "execution_count": null,
   "id": "0ac1c92c",
   "metadata": {},
   "outputs": [],
   "source": [
    "##num_epochs = 10\n",
    "##train_ch3(net, train_iter, test_iter, cross_entropy, num_epochs, updater)\n",
    "my $num_epochs = 10;\n",
    "d2l->train_ch3(\\&net, $train_iter, $test_iter, \\&cross_entropy, $num_epochs, \\&updater);"
   ]
  },
  {
   "cell_type": "markdown",
   "id": "ea05de97",
   "metadata": {},
   "source": [
    "## 3.6.7 Prediction\n",
    "Now that training is complete, our model is ready to classify some images. Given a series of images, we will compare their actual labels (first line of text output) and the predictions from the\n",
    "model (second line of text output)."
   ]
  },
  {
   "cell_type": "code",
   "execution_count": null,
   "id": "4be92883",
   "metadata": {},
   "outputs": [],
   "source": [
    "sub predict_ch3{#@save\n",
    "     #   \"\"\"Predict labels (defined in Chapter 3).\"\"\"\n",
    "    my ($net, $test_iter, $n) = @_; \n",
    "    $n = 6;\n",
    "    my ($y, $X);\n",
    "    my $trues = d2l->get_fashion_mnist_labels($y);\n",
    "    my $preds = d2l->get_fashion_mnist_labels(net($X)->argmax(axis => 1));\n",
    "    d2l->show_images(imgs => $X,\n",
    "                        num_rows => 2,\n",
    "                        num_cols => 9,\n",
    "                        titles => $trues);\n",
    "}"
   ]
  },
  {
   "cell_type": "code",
   "execution_count": null,
   "id": "fda74469",
   "metadata": {},
   "outputs": [],
   "source": [
    "d2l->predict_ch3(\\&net, $test_iter);"
   ]
  },
  {
   "cell_type": "markdown",
   "id": "585dee14",
   "metadata": {},
   "source": [
    "## Summary\n",
    "* With softmax regression, we can train models for multiclass classification.\n",
    "* The training loop of softmax regression is very similar to that in linear regression: retrieve\n",
    "and read data, define models and loss functions, then train models using optimization algorithms. As you will soon find out, most common deep learning models have similar training\n",
    "procedures."
   ]
  }
 ],
 "metadata": {
  "kernelspec": {
   "display_name": "IPerl 0.011",
   "language": "perl",
   "name": "iperl"
  },
  "language_info": {
   "file_extension": ".pl",
   "mimetype": "text/x-perl",
   "name": "perl",
   "version": "5.32.1"
  }
 },
 "nbformat": 4,
 "nbformat_minor": 5
}
