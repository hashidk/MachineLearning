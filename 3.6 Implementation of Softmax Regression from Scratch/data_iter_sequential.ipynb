{
 "cells": [
  {
   "cell_type": "code",
   "execution_count": 4,
   "id": "fa6349e1",
   "metadata": {},
   "outputs": [],
   "source": [
    "use strict;\n",
    "use warnings;\n",
    "use Data::Dump qw(dump);\n",
    "use List::Util qw(min max shuffle);\n",
    "use AI::MXNet qw(mx);"
   ]
  },
  {
   "cell_type": "code",
   "execution_count": 5,
   "id": "07ce7ca6",
   "metadata": {},
   "outputs": [
    {
     "data": {
      "text/plain": [
       "AI::MXNet::Gluon::Data::Vision::DownloadedDataSet::FashionMNIST=HASH(0x602fb08)"
      ]
     },
     "execution_count": 5,
     "metadata": {},
     "output_type": "execute_result"
    }
   ],
   "source": [
    "my $mnist_train = gluon->data->vision->FashionMNIST('~/.mxnet/datasets/fashion-mnist', train => 1);\n",
    "my $mnist_test = gluon->data->vision->FashionMNIST('~/.mxnet/datasets/fashion-mnist',  train => 0);"
   ]
  },
  {
   "cell_type": "code",
   "execution_count": 6,
   "id": "952c9a64",
   "metadata": {},
   "outputs": [
    {
     "data": {
      "text/plain": [
       "<AI::MXNet::NDArray 60000x28x28 @cpu(0)><AI::MXNet::NDArray 60000 @cpu(0)>"
      ]
     },
     "execution_count": 6,
     "metadata": {},
     "output_type": "execute_result"
    }
   ],
   "source": [
    "my $transformer = sub {my ($data, $label) = @_;                 \n",
    "                       return ($data->reshape([-1, 28, 28])->astype('float32') / 255, $label)};\n",
    "                       \n",
    "my ($X, $y) = $transformer->($mnist_train->{data}, mx->nd->array($mnist_train->{label}));"
   ]
  },
  {
   "cell_type": "code",
   "execution_count": 8,
   "id": "59aea6e1",
   "metadata": {},
   "outputs": [],
   "source": [
    "sub data_iter_sequential{ # Optimized for sequential minibatches\n",
    "  my ($features, $labels, $batch_size) = @_;\n",
    "  my $num_samples = $features->len;\n",
    "  my @indices = (0 .. $num_samples - 1);\n",
    "  my ($index, @batch_indices) = 0;\n",
    "\n",
    "  return sub {\n",
    "    if (defined $_[0] && $_[0] == 0){# Reset\n",
    "      $index = 0;\n",
    "      return 1;\n",
    "    }\n",
    "    return undef if ($index >= $num_samples);\n",
    "    @batch_indices = @indices[$index .. min($index + $batch_size, $num_samples) - 1];\n",
    "    $index += $batch_size;\n",
    "    return {data  => $features->slice([$batch_indices[0], $batch_indices[-1]]), \n",
    "            label => $labels->slice([$batch_indices[0], $batch_indices[-1]])};\n",
    "  };\n",
    "}"
   ]
  },
  {
   "cell_type": "code",
   "execution_count": 9,
   "id": "293ac27c",
   "metadata": {},
   "outputs": [
    {
     "data": {
      "text/plain": [
       "CODE(0xa370f58)"
      ]
     },
     "execution_count": 9,
     "metadata": {},
     "output_type": "execute_result"
    }
   ],
   "source": [
    "my $train_iter = data_iter_sequential($X, $y, 256);"
   ]
  },
  {
   "cell_type": "code",
   "execution_count": 10,
   "id": "f4ba477f",
   "metadata": {},
   "outputs": [
    {
     "data": {
      "text/plain": [
       "<AI::MXNet::NDArray 256 @cpu(0)>"
      ]
     },
     "execution_count": 10,
     "metadata": {},
     "output_type": "execute_result"
    }
   ],
   "source": [
    "my $minibatch_train = $train_iter->();\n",
    "my $X_train = $minibatch_train->{data};\n",
    "my $y_train = $minibatch_train->{label};"
   ]
  },
  {
   "cell_type": "code",
   "execution_count": 11,
   "id": "4ad722a0",
   "metadata": {},
   "outputs": [
    {
     "name": "stdout",
     "output_type": "stream",
     "text": [
      "[256, 28, 28]"
     ]
    },
    {
     "data": {
      "text/plain": [
       "1"
      ]
     },
     "execution_count": 11,
     "metadata": {},
     "output_type": "execute_result"
    }
   ],
   "source": [
    "print dump $X_train->shape;"
   ]
  },
  {
   "cell_type": "code",
   "execution_count": 12,
   "id": "6ed0719e",
   "metadata": {},
   "outputs": [
    {
     "name": "stdout",
     "output_type": "stream",
     "text": [
      "[256]"
     ]
    },
    {
     "data": {
      "text/plain": [
       "1"
      ]
     },
     "execution_count": 12,
     "metadata": {},
     "output_type": "execute_result"
    }
   ],
   "source": [
    "print dump $y_train->shape;"
   ]
  },
  {
   "cell_type": "code",
   "execution_count": 13,
   "id": "276764b3",
   "metadata": {},
   "outputs": [
    {
     "name": "stdout",
     "output_type": "stream",
     "text": [
      "\n",
      "[256, 28, 28]\n",
      "[256, 28, 28]\n",
      "[256, 28, 28]\n",
      "[256, 28, 28]\n",
      "[256, 28, 28]\n",
      "[256, 28, 28]\n",
      "[256, 28, 28]\n",
      "[256, 28, 28]\n",
      "[256, 28, 28]\n",
      "[256, 28, 28]\n",
      "[256, 28, 28]\n",
      "[256, 28, 28]\n",
      "[256, 28, 28]\n",
      "[256, 28, 28]\n",
      "[256, 28, 28]\n",
      "[256, 28, 28]\n",
      "[256, 28, 28]\n",
      "[256, 28, 28]\n",
      "[256, 28, 28]\n",
      "[256, 28, 28]\n",
      "[256, 28, 28]\n",
      "[256, 28, 28]\n",
      "[256, 28, 28]\n",
      "[256, 28, 28]\n",
      "[256, 28, 28]\n",
      "[256, 28, 28]\n",
      "[256, 28, 28]\n",
      "[256, 28, 28]\n",
      "[256, 28, 28]\n",
      "[256, 28, 28]\n",
      "[256, 28, 28]\n",
      "[256, 28, 28]\n",
      "[256, 28, 28]\n",
      "[256, 28, 28]\n",
      "[256, 28, 28]\n",
      "[256, 28, 28]\n",
      "[256, 28, 28]\n",
      "[256, 28, 28]\n",
      "[256, 28, 28]\n",
      "[256, 28, 28]\n",
      "[256, 28, 28]\n",
      "[256, 28, 28]\n",
      "[256, 28, 28]\n",
      "[256, 28, 28]\n",
      "[256, 28, 28]\n",
      "[256, 28, 28]\n",
      "[256, 28, 28]\n",
      "[256, 28, 28]\n",
      "[256, 28, 28]\n",
      "[256, 28, 28]\n",
      "[256, 28, 28]\n",
      "[256, 28, 28]\n",
      "[256, 28, 28]\n",
      "[256, 28, 28]\n",
      "[256, 28, 28]\n",
      "[256, 28, 28]\n",
      "[256, 28, 28]\n",
      "[256, 28, 28]\n",
      "[256, 28, 28]\n",
      "[256, 28, 28]\n",
      "[256, 28, 28]\n",
      "[256, 28, 28]\n",
      "[256, 28, 28]\n",
      "[256, 28, 28]\n",
      "[256, 28, 28]\n",
      "[256, 28, 28]\n",
      "[256, 28, 28]\n",
      "[256, 28, 28]\n",
      "[256, 28, 28]\n",
      "[256, 28, 28]\n",
      "[256, 28, 28]\n",
      "[256, 28, 28]\n",
      "[256, 28, 28]\n",
      "[256, 28, 28]\n",
      "[256, 28, 28]\n",
      "[256, 28, 28]\n",
      "[256, 28, 28]\n",
      "[256, 28, 28]\n",
      "[256, 28, 28]\n",
      "[256, 28, 28]\n",
      "[256, 28, 28]\n",
      "[256, 28, 28]\n",
      "[256, 28, 28]\n",
      "[256, 28, 28]\n",
      "[256, 28, 28]\n",
      "[256, 28, 28]\n",
      "[256, 28, 28]\n",
      "[256, 28, 28]\n",
      "[256, 28, 28]\n",
      "[256, 28, 28]\n",
      "[256, 28, 28]\n",
      "[256, 28, 28]\n",
      "[256, 28, 28]\n",
      "[256, 28, 28]\n",
      "[256, 28, 28]\n",
      "[256, 28, 28]\n",
      "[256, 28, 28]\n",
      "[256, 28, 28]\n",
      "[256, 28, 28]\n",
      "[256, 28, 28]\n",
      "[256, 28, 28]\n",
      "[256, 28, 28]\n",
      "[256, 28, 28]\n",
      "[256, 28, 28]\n",
      "[256, 28, 28]\n",
      "[256, 28, 28]\n",
      "[256, 28, 28]\n",
      "[256, 28, 28]\n",
      "[256, 28, 28]\n",
      "[256, 28, 28]\n",
      "[256, 28, 28]\n",
      "[256, 28, 28]\n",
      "[256, 28, 28]\n",
      "[256, 28, 28]\n",
      "[256, 28, 28]\n",
      "[256, 28, 28]\n",
      "[256, 28, 28]\n",
      "[256, 28, 28]\n",
      "[256, 28, 28]\n",
      "[256, 28, 28]\n",
      "[256, 28, 28]\n",
      "[256, 28, 28]\n",
      "[256, 28, 28]\n",
      "[256, 28, 28]\n",
      "[256, 28, 28]\n",
      "[256, 28, 28]\n",
      "[256, 28, 28]\n",
      "[256, 28, 28]\n",
      "[256, 28, 28]\n",
      "[256, 28, 28]\n",
      "[256, 28, 28]\n",
      "[256, 28, 28]\n",
      "[256, 28, 28]\n",
      "[256, 28, 28]\n",
      "[256, 28, 28]\n",
      "[256, 28, 28]\n",
      "[256, 28, 28]\n",
      "[256, 28, 28]\n",
      "[256, 28, 28]\n",
      "[256, 28, 28]\n",
      "[256, 28, 28]\n",
      "[256, 28, 28]\n",
      "[256, 28, 28]\n",
      "[256, 28, 28]\n",
      "[256, 28, 28]\n",
      "[256, 28, 28]\n",
      "[256, 28, 28]\n",
      "[256, 28, 28]\n",
      "[256, 28, 28]\n",
      "[256, 28, 28]\n",
      "[256, 28, 28]\n",
      "[256, 28, 28]\n",
      "[256, 28, 28]\n",
      "[256, 28, 28]\n",
      "[256, 28, 28]\n",
      "[256, 28, 28]\n",
      "[256, 28, 28]\n",
      "[256, 28, 28]\n",
      "[256, 28, 28]\n",
      "[256, 28, 28]\n",
      "[256, 28, 28]\n",
      "[256, 28, 28]\n",
      "[256, 28, 28]\n",
      "[256, 28, 28]\n",
      "[256, 28, 28]\n",
      "[256, 28, 28]\n",
      "[256, 28, 28]\n",
      "[256, 28, 28]\n",
      "[256, 28, 28]\n",
      "[256, 28, 28]\n",
      "[256, 28, 28]\n",
      "[256, 28, 28]\n",
      "[256, 28, 28]\n",
      "[256, 28, 28]\n",
      "[256, 28, 28]\n",
      "[256, 28, 28]\n",
      "[256, 28, 28]\n",
      "[256, 28, 28]\n",
      "[256, 28, 28]\n",
      "[256, 28, 28]\n",
      "[256, 28, 28]\n",
      "[256, 28, 28]\n",
      "[256, 28, 28]\n",
      "[256, 28, 28]\n",
      "[256, 28, 28]\n",
      "[256, 28, 28]\n",
      "[256, 28, 28]\n",
      "[256, 28, 28]\n",
      "[256, 28, 28]\n",
      "[256, 28, 28]\n",
      "[256, 28, 28]\n",
      "[256, 28, 28]\n",
      "[256, 28, 28]\n",
      "[256, 28, 28]\n",
      "[256, 28, 28]\n",
      "[256, 28, 28]\n",
      "[256, 28, 28]\n",
      "[256, 28, 28]\n",
      "[256, 28, 28]\n",
      "[256, 28, 28]\n",
      "[256, 28, 28]\n",
      "[256, 28, 28]\n",
      "[256, 28, 28]\n",
      "[256, 28, 28]\n",
      "[256, 28, 28]\n",
      "[256, 28, 28]\n",
      "[256, 28, 28]\n",
      "[256, 28, 28]\n",
      "[256, 28, 28]\n",
      "[256, 28, 28]\n",
      "[256, 28, 28]\n",
      "[256, 28, 28]\n",
      "[256, 28, 28]\n",
      "[256, 28, 28]\n",
      "[256, 28, 28]\n",
      "[256, 28, 28]\n",
      "[256, 28, 28]\n",
      "[256, 28, 28]\n",
      "[256, 28, 28]\n",
      "[256, 28, 28]\n",
      "[256, 28, 28]\n",
      "[256, 28, 28]\n",
      "[256, 28, 28]\n",
      "[256, 28, 28]\n",
      "[256, 28, 28]\n",
      "[256, 28, 28]\n",
      "[256, 28, 28]\n",
      "[256, 28, 28]\n",
      "[256, 28, 28]\n",
      "[256, 28, 28]\n",
      "[256, 28, 28]\n",
      "[256, 28, 28]\n",
      "[256, 28, 28]\n",
      "[96, 28, 28]"
     ]
    }
   ],
   "source": [
    "while ( my $minibatch_train = $train_iter->() ) {\n",
    "  my $X_train = $minibatch_train->{data};\n",
    "  my $y_train = $minibatch_train->{label};\n",
    "  print \"\\n\", dump $X_train->shape;\n",
    "}"
   ]
  },
  {
   "cell_type": "code",
   "execution_count": null,
   "id": "495fac2a",
   "metadata": {},
   "outputs": [],
   "source": []
  }
 ],
 "metadata": {
  "kernelspec": {
   "display_name": "IPerl 0.011",
   "language": "perl",
   "name": "iperl"
  },
  "language_info": {
   "file_extension": ".pl",
   "mimetype": "text/x-perl",
   "name": "perl",
   "version": "5.32.1"
  }
 },
 "nbformat": 4,
 "nbformat_minor": 5
}