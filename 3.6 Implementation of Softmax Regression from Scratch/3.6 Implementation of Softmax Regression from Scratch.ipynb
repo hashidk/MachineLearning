{
 "cells": [
  {
   "attachments": {},
   "cell_type": "markdown",
   "id": "fc0f6a99",
   "metadata": {},
   "source": [
    "# 3.6 Implementation of Softmax Regression from Scratch\n",
    "Just as we implemented linear regression from scratch, we believe that softmax regression is similarly fundamental and you ought to know the gory details of\n",
    "how to implement it yourself. We will work with the Fashion-MNIST dataset, just introduced in\n",
    "Section 3.5, setting up a data iterator with batch size 256."
   ]
  },
  {
   "cell_type": "code",
   "execution_count": null,
   "id": "c1609540",
   "metadata": {},
   "outputs": [],
   "source": [
    "from IPython import display\n",
    "from mxnet import autograd, gluon, np, npx\n",
    "from d2l import mxnet as d2l\n",
    "npx.set_np()"
   ]
  },
  {
   "cell_type": "code",
   "execution_count": null,
   "id": "dc26dca8",
   "metadata": {},
   "outputs": [],
   "source": [
    "batch_size = 256\n",
    "train_iter, test_iter = d2l.load_data_fashion_mnist(batch_size)"
   ]
  },
  {
   "attachments": {},
   "cell_type": "markdown",
   "id": "b0e6890e",
   "metadata": {},
   "source": [
    "## 3.6.1 Initializing Model Parameters\n",
    "As in our linear regression example, each example here will be represented by a fixed-length vector. Each example in the raw dataset is a 28×28 image. In this section, we will flatten each image,\n",
    "treating them as vectors of length 784. In the future, we will talk about more sophisticated strategies for exploiting the spatial structure in images, but for now we treat each pixel location as just\n",
    "another feature.\n",
    "\n",
    "Recall that in softmax regression, we have as many outputs as there are classes. Because our\n",
    "dataset has 10 classes, our network will have an output dimension of 10. Consequently, our weights will constitute a 784 × 10 matrix and the biases will constitute a 1 × 10 row vector. As with linear\n",
    "regression, we will initialize our weights W with Gaussian noise and our biases to take the initial\n",
    "value 0."
   ]
  },
  {
   "cell_type": "code",
   "execution_count": null,
   "id": "a2e36c93",
   "metadata": {},
   "outputs": [],
   "source": [
    "num_inputs = 784\n",
    "num_outputs = 10\n",
    "W = np.random.normal(0, 0.01, (num_inputs, num_outputs))\n",
    "b = np.zeros(num_outputs)\n",
    "W.attach_grad()\n",
    "b.attach_grad()"
   ]
  },
  {
   "attachments": {},
   "cell_type": "markdown",
   "id": "21f9fafc",
   "metadata": {},
   "source": [
    "## 3.6.2 Defining the Softmax Operation\n",
    "Before implementing the softmax regression model, let us briefly review how the sum operator\n",
    "works along specific dimensions in a tensor, as discussed in Section 2.3.6 and Section 2.3.6. Given\n",
    "a matrix X we can sum over all elements (by default) or only over elements in the same axis, i.e.,\n",
    "the same column (axis 0) or the same row (axis 1). Note that if X is a tensor with shape (2, 3) and we\n",
    "sum over the columns, the result will be a vector with shape (3,). When invoking the sum operator,\n",
    "we can specify to keep the number of axes in the original tensor, rather than collapsing out the\n",
    "dimension that we summed over. This will result in a two-dimensional tensor with shape (1, 3)."
   ]
  },
  {
   "cell_type": "code",
   "execution_count": null,
   "id": "6665cb08",
   "metadata": {},
   "outputs": [],
   "source": [
    "X = np.array([[1.0, 2.0, 3.0], [4.0, 5.0, 6.0]])\n",
    "X.sum(0, keepdims=True), X.sum(1, keepdims=True)"
   ]
  },
  {
   "attachments": {},
   "cell_type": "markdown",
   "id": "e504f373",
   "metadata": {},
   "source": [
    "We are now ready to implement the softmax operation. Recall that softmax consists of three steps:\n",
    "i) we exponentiate each term (using exp); ii) we sum over each row (we have one row per example\n",
    "in the batch) to get the normalization constant for each example; iii) we divide each row by its\n",
    "normalization constant, ensuring that the result sums to 1. Before looking at the code, let us\n",
    "recall how this looks expressed as an equation:\n",
    "$$softmax(X)_{ij} = \\frac{exp(X_{ij})}{∑_kexp(X_{ik})} .  (3.6.1)$$ \n",
    "\n",
    "The denominator, or normalization constant, is also sometimes called the partition function (and\n",
    "its logarithm is called the log-partition function). The origins of that name are in statistical\n",
    "physics57 where a related equation models the distribution over an ensemble of particles."
   ]
  },
  {
   "cell_type": "code",
   "execution_count": null,
   "id": "94e6ae48",
   "metadata": {},
   "outputs": [],
   "source": [
    "def softmax(X):\n",
    "    X_exp = np.exp(X)\n",
    "    partition = X_exp.sum(1, keepdims=True)\n",
    "    return X_exp / partition # The broadcasting mechanism is applied here"
   ]
  },
  {
   "attachments": {},
   "cell_type": "markdown",
   "id": "4681cf69",
   "metadata": {},
   "source": [
    "As you can see, for any random input, we turn each element into a non-negative number. Moreover, each row sums up to 1, as is required for a probability.\n"
   ]
  },
  {
   "cell_type": "code",
   "execution_count": null,
   "id": "74b90135",
   "metadata": {},
   "outputs": [],
   "source": [
    "X = np.random.normal(0, 1, (2, 5))\n",
    "X_prob = softmax(X)\n",
    "X_prob, X_prob.sum(1)"
   ]
  },
  {
   "attachments": {},
   "cell_type": "markdown",
   "id": "c7c16d0a",
   "metadata": {},
   "source": [
    "Note that while this looks correct mathematically, we were a bit sloppy in our implementation\n",
    "because we failed to take precautions against numerical overflow or underflow due to large or\n",
    "very small elements of the matrix.\n",
    "## 3.6.3 Defining the Model\n",
    "Now that we have defined the softmax operation, we can implement the softmax regression model.\n",
    "The below code defines how the input is mapped to the output through the network. Note that we\n",
    "flatten each original image in the batch into a vector using the reshape function before passing\n",
    "the data through our model."
   ]
  },
  {
   "cell_type": "code",
   "execution_count": null,
   "id": "2f54bee0",
   "metadata": {},
   "outputs": [],
   "source": [
    "def net(X):\n",
    "    return softmax(np.dot(X.reshape((-1, W.shape[0])), W) + b)"
   ]
  },
  {
   "attachments": {},
   "cell_type": "markdown",
   "id": "2dc8665d",
   "metadata": {},
   "source": [
    "## 3.6.4 Defining the Loss Function\n",
    "Next, we need to implement the cross-entropy loss function, as introduced in Section 3.4. This\n",
    "may be the most common loss function in all of deep learning because, at the moment, classification problems far outnumber regression problems.\n",
    "\n",
    "Recall that cross-entropy takes the negative log-likelihood of the predicted probability assigned to\n",
    "the true label. Rather than iterating over the predictions with a Python for-loop (which tends to\n",
    "be inefficient), we can pick all elements by a single operator. Below, we create sample data y_hat\n",
    "with 2 examples of predicted probabilities over 3 classes and their corresponding labels y. With y\n",
    "we know that in the first example the first class is the correct prediction and in the second example\n",
    "the third class is the ground-truth. Using y as the indices of the probabilities in y_hat, we pick the\n",
    "probability of the first class in the first example and the probability of the third class in the second\n",
    "example.\n"
   ]
  },
  {
   "cell_type": "code",
   "execution_count": null,
   "id": "4e39a770",
   "metadata": {},
   "outputs": [],
   "source": [
    "y = np.array([0, 2])\n",
    "y_hat = np.array([[0.1, 0.3, 0.6], [0.3, 0.2, 0.5]])\n",
    "y_hat[[0, 1], y]"
   ]
  },
  {
   "attachments": {},
   "cell_type": "markdown",
   "id": "f3f92085",
   "metadata": {},
   "source": [
    "Now we can implement the cross-entropy loss function efficiently with just one line of code."
   ]
  },
  {
   "cell_type": "code",
   "execution_count": null,
   "id": "a2757373",
   "metadata": {},
   "outputs": [],
   "source": [
    "def cross_entropy(y_hat, y):\n",
    "    return -np.log(y_hat[range(len(y_hat)), y])\n",
    "\n",
    "cross_entropy(y_hat, y)"
   ]
  },
  {
   "attachments": {},
   "cell_type": "markdown",
   "id": "ee7dce38",
   "metadata": {},
   "source": [
    "## 3.6.5 Classification Accuracy\n",
    "Given the predicted probability distribution y_hat, we typically choose the class with the highest\n",
    "predicted probability whenever we must output a hard prediction. Indeed, many applications\n",
    "require that we make a choice. Gmail must categorize an email into “Primary”, “Social”, “Updates”,\n",
    "or “Forums”. It might estimate probabilities internally, but at the end of the day it has to choose\n",
    "one among the classes.\n",
    "\n",
    "When predictions are consistent with the label class y, they are correct. The classification accuracy is the fraction of all predictions that are correct. Although it can be difficult to optimize\n",
    "accuracy directly (it is not differentiable), it is often the performance measure that we care most\n",
    "about, and we will nearly always report it when training classifiers.\n",
    "\n",
    "To compute accuracy we do the following. First, if y_hat is a matrix, we assume that the second\n",
    "dimension stores prediction scores for each class. We use argmax to obtain the predicted class by\n",
    "the index for the largest entry in each row. Then we compare the predicted class with the groundtruth y elementwise. Since the equality operator == is sensitive to data types, we convert y_hatʼs\n",
    "data type to match that of y. The result is a tensor containing entries of 0 (false) and 1 (true).\n",
    "Taking the sum yields the number of correct predictions."
   ]
  },
  {
   "cell_type": "code",
   "execution_count": null,
   "id": "e77a3179",
   "metadata": {},
   "outputs": [],
   "source": [
    "def accuracy(y_hat, y): #@save\n",
    "    \"\"\"Compute the number of correct predictions.\"\"\"\n",
    "    if len(y_hat.shape) > 1 and y_hat.shape[1] > 1:\n",
    "        y_hat = y_hat.argmax(axis=1)\n",
    "    cmp = y_hat.astype(y.dtype) == y\n",
    "    return float(cmp.astype(y.dtype).sum())"
   ]
  },
  {
   "attachments": {},
   "cell_type": "markdown",
   "id": "d7ff7693",
   "metadata": {},
   "source": [
    "We will continue to use the variables y_hat and y defined before as the predicted probability distributions and labels, respectively. We can see that the first exampleʼs prediction class is 2 (the\n",
    "largest element of the row is 0.6 with the index 2), which is inconsistent with the actual label, 0.\n",
    "The second exampleʼs prediction class is 2 (the largest element of the row is 0.5 with the index of\n",
    "2), which is consistent with the actual label, 2. Therefore, the classification accuracy rate for these\n",
    "two examples is 0.5."
   ]
  },
  {
   "cell_type": "code",
   "execution_count": null,
   "id": "8dd494b6",
   "metadata": {},
   "outputs": [],
   "source": [
    "accuracy(y_hat, y) / len(y)"
   ]
  },
  {
   "attachments": {},
   "cell_type": "markdown",
   "id": "665ae7b6",
   "metadata": {},
   "source": [
    "Similarly, we can evaluate the accuracy for any model net on a dataset that is accessed via the data\n",
    "iterator data_iter."
   ]
  },
  {
   "cell_type": "code",
   "execution_count": null,
   "id": "cf485026",
   "metadata": {},
   "outputs": [],
   "source": [
    "def evaluate_accuracy(net, data_iter): #@save\n",
    "    \"\"\"Compute the accuracy for a model on a dataset.\"\"\"\n",
    "    metric = Accumulator(2) # No. of correct predictions, no. of predictions\n",
    "    for X, y in data_iter:\n",
    "        metric.add(accuracy(net(X), y), y.size)\n",
    "    return metric[0] / metric[1]"
   ]
  },
  {
   "attachments": {},
   "cell_type": "markdown",
   "id": "9a9ca476",
   "metadata": {},
   "source": [
    "Here Accumulator is a utility class to accumulate sums over multiple variables. In the above evaluate_accuracy function, we create 2 variables in the Accumulator instance for storing both the\n",
    "number of correct predictions and the number of predictions, respectively. Both will be accumulated over time as we iterate over the dataset."
   ]
  },
  {
   "cell_type": "code",
   "execution_count": null,
   "id": "739ccea6",
   "metadata": {},
   "outputs": [],
   "source": [
    "class Accumulator: #@save\n",
    "    \"\"\"For accumulating sums over `n` variables.\"\"\"\n",
    "    def __init__(self, n):\n",
    "        self.data = [0.0] * n\n",
    "\n",
    "    def add(self, *args):\n",
    "        self.data = [a + float(b) for a, b in zip(self.data, args)]\n",
    "\n",
    "    def reset(self):\n",
    "        self.data = [0.0] * len(self.data)\n",
    "        \n",
    "    def __getitem__(self, idx):\n",
    "        return self.data[idx]"
   ]
  },
  {
   "attachments": {},
   "cell_type": "markdown",
   "id": "22756407",
   "metadata": {},
   "source": [
    "Because we initialized the net model with random weights, the accuracy of this model should be\n",
    "close to random guessing, i.e., 0.1 for 10 classes."
   ]
  },
  {
   "cell_type": "code",
   "execution_count": null,
   "id": "5db2ca91",
   "metadata": {},
   "outputs": [],
   "source": [
    "evaluate_accuracy(net, test_iter)"
   ]
  },
  {
   "attachments": {},
   "cell_type": "markdown",
   "id": "76b3c42e",
   "metadata": {},
   "source": [
    "## 3.6.6 Training\n",
    "The training loop for softmax regression should look strikingly familiar if you read through our\n",
    "implementation of linear regression in Section 3.2. Here we refactor the implementation to make\n",
    "it reusable. First, we define a function to train for one epoch. Note that updater is a general\n",
    "function to update the model parameters, which accepts the batch size as an argument. It can be\n",
    "either a wrapper of the d2l.sgd function or a frameworkʼs built-in optimization function."
   ]
  },
  {
   "cell_type": "code",
   "execution_count": null,
   "id": "5caa6735",
   "metadata": {},
   "outputs": [],
   "source": [
    "def train_epoch_ch3(net, train_iter, loss, updater): #@save\n",
    "    \"\"\"Train a model within one epoch (defined in Chapter 3).\"\"\"\n",
    "    # Sum of training loss, sum of training accuracy, no. of examples\n",
    "    metric = Accumulator(3)\n",
    "    if isinstance(updater, gluon.Trainer):\n",
    "        updater = updater.step\n",
    "    for X, y in train_iter:\n",
    "        # Compute gradients and update parameters\n",
    "        with autograd.record():\n",
    "            y_hat = net(X)\n",
    "            l = loss(y_hat, y)\n",
    "        l.backward()\n",
    "        updater(X.shape[0])\n",
    "        metric.add(float(l.sum()), accuracy(y_hat, y), y.size)\n",
    "    # Return training loss and training accuracy\n",
    "    return metric[0] / metric[2], metric[1] / metric[2]"
   ]
  },
  {
   "attachments": {},
   "cell_type": "markdown",
   "id": "049b8907",
   "metadata": {},
   "source": [
    "Before showing the implementation of the training function, we define a utility class that plot data\n",
    "in animation. Again, it aims to simplify code in the rest of the book."
   ]
  },
  {
   "cell_type": "code",
   "execution_count": null,
   "id": "9732d04c",
   "metadata": {},
   "outputs": [],
   "source": [
    "class Animator: #@save\n",
    "    \"\"\"For plotting data in animation.\"\"\"\n",
    "    def __init__(self, xlabel=None, ylabel=None, legend=None, xlim=None,\n",
    "                ylim=None, xscale='linear', yscale='linear',\n",
    "                fmts=('-', 'm--', 'g-.', 'r:'), nrows=1, ncols=1,\n",
    "                figsize=(3.5, 2.5)):\n",
    "        # Incrementally plot multiple lines\n",
    "        if legend is None:\n",
    "            legend = []\n",
    "        d2l.use_svg_display()\n",
    "        self.fig, self.axes = d2l.plt.subplots(nrows, ncols, figsize=figsize)\n",
    "        if nrows * ncols == 1:\n",
    "            self.axes = [self.axes,]\n",
    "        # Use a lambda function to capture arguments\n",
    "        self.config_axes = lambda: d2l.set_axes(self.axes[\n",
    "            0], xlabel, ylabel, xlim, ylim, xscale, yscale, legend)\n",
    "        self.X, self.Y, self.fmts = None, None, fmts\n",
    "\n",
    "    def add(self, x, y):\n",
    "    # Add multiple data points into the figure\n",
    "    if not hasattr(y, \"__len__\"):\n",
    "        y = [y]\n",
    "    n = len(y)\n",
    "    if not hasattr(x, \"__len__\"):\n",
    "        x = [x] * n\n",
    "    if not self.X:\n",
    "        self.X = [[] for _ in range(n)]\n",
    "    if not self.Y:\n",
    "        self.Y = [[] for _ in range(n)]\n",
    "    for i, (a, b) in enumerate(zip(x, y)):\n",
    "        if a is not None and b is not None:\n",
    "            self.X[i].append(a)\n",
    "            self.Y[i].append(b)\n",
    "    self.axes[0].cla()\n",
    "    for x, y, fmt in zip(self.X, self.Y, self.fmts):\n",
    "        self.axes[0].plot(x, y, fmt)\n",
    "    self.config_axes()\n",
    "    display.display(self.fig)\n",
    "    display.clear_output(wait=True)"
   ]
  },
  {
   "attachments": {},
   "cell_type": "markdown",
   "id": "98c432b1",
   "metadata": {},
   "source": [
    "The following training function then trains a model net on a training dataset accessed via\n",
    "train_iter for multiple epochs, which is specified by num_epochs. At the end of each epoch, the\n",
    "model is evaluated on a testing dataset accessed via test_iter. We will leverage the Animator class\n",
    "to visualize the training progress."
   ]
  },
  {
   "cell_type": "code",
   "execution_count": null,
   "id": "610151f7",
   "metadata": {},
   "outputs": [],
   "source": [
    "def train_ch3(net, train_iter, test_iter, loss, num_epochs, updater): #@save\n",
    "    \"\"\"Train a model (defined in Chapter 3).\"\"\"\n",
    "    animator = Animator(xlabel='epoch', xlim=[1, num_epochs], ylim=[0.3, 0.9],\n",
    "                legend=['train loss', 'train acc', 'test acc'])\n",
    "    for epoch in range(num_epochs):\n",
    "        train_metrics = train_epoch_ch3(net, train_iter, loss, updater)\n",
    "        test_acc = evaluate_accuracy(net, test_iter)\n",
    "        animator.add(epoch + 1, train_metrics + (test_acc,))\n",
    "    train_loss, train_acc = train_metrics\n",
    "    \n",
    "    assert train_loss < 0.5, train_loss\n",
    "    assert train_acc <= 1 and train_acc > 0.7, train_acc\n",
    "    assert test_acc <= 1 and test_acc > 0.7, test_acc"
   ]
  },
  {
   "attachments": {},
   "cell_type": "markdown",
   "id": "36ac2e88",
   "metadata": {},
   "source": [
    "As an implementation from scratch, we use the minibatch stochastic gradient descent defined in\n",
    "Section 3.2 to optimize the loss function of the model with a learning rate 0.1."
   ]
  },
  {
   "cell_type": "code",
   "execution_count": null,
   "id": "772994b6",
   "metadata": {},
   "outputs": [],
   "source": [
    "lr = 0.1\n",
    "\n",
    "def updater(batch_size):\n",
    "    return d2l.sgd([W, b], lr, batch_size)"
   ]
  },
  {
   "attachments": {},
   "cell_type": "markdown",
   "id": "af9dbcb7",
   "metadata": {},
   "source": [
    "Now we train the model with 10 epochs. Note that both the number of epochs (num_epochs), and\n",
    "learning rate (lr) are adjustable hyperparameters. By changing their values, we may be able to\n",
    "increase the classification accuracy of the model."
   ]
  },
  {
   "cell_type": "code",
   "execution_count": null,
   "id": "0ac1c92c",
   "metadata": {},
   "outputs": [],
   "source": [
    "num_epochs = 10\n",
    "train_ch3(net, train_iter, test_iter, cross_entropy, num_epochs, updater)"
   ]
  },
  {
   "attachments": {},
   "cell_type": "markdown",
   "id": "ea05de97",
   "metadata": {},
   "source": [
    "## 3.6.7 Prediction\n",
    "Now that training is complete, our model is ready to classify some images. Given a series of images, we will compare their actual labels (first line of text output) and the predictions from the\n",
    "model (second line of text output)."
   ]
  },
  {
   "cell_type": "code",
   "execution_count": null,
   "id": "4be92883",
   "metadata": {},
   "outputs": [],
   "source": [
    "def predict_ch3(net, test_iter, n=6): #@save\n",
    "    \"\"\"Predict labels (defined in Chapter 3).\"\"\"\n",
    "    for X, y in test_iter:\n",
    "        break\n",
    "    trues = d2l.get_fashion_mnist_labels(y)\n",
    "    preds = d2l.get_fashion_mnist_labels(net(X).argmax(axis=1))\n",
    "    titles = [true + '\\n' + pred for true, pred in zip(trues, preds)]\n",
    "    d2l.show_images(X[0:n].reshape((n, 28, 28)), 1, n, titles=titles[0:n])\n",
    "predict_ch3(net, test_iter)"
   ]
  },
  {
   "attachments": {},
   "cell_type": "markdown",
   "id": "585dee14",
   "metadata": {},
   "source": [
    "## Summary\n",
    "* With softmax regression, we can train models for multiclass classification.\n",
    "* The training loop of softmax regression is very similar to that in linear regression: retrieve\n",
    "and read data, define models and loss functions, then train models using optimization algorithms. As you will soon find out, most common deep learning models have similar training\n",
    "procedures."
   ]
  }
 ],
 "metadata": {
  "kernelspec": {
   "display_name": "IPerl 0.011",
   "language": "perl",
   "name": "iperl"
  },
  "language_info": {
   "file_extension": ".pl",
   "mimetype": "text/x-perl",
   "name": "perl",
   "version": "5.32.1"
  }
 },
 "nbformat": 4,
 "nbformat_minor": 5
}
