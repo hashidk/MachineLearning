{
 "cells": [
  {
   "cell_type": "code",
   "execution_count": 1,
   "id": "1d32fca6",
   "metadata": {},
   "outputs": [],
   "source": [
    "use strict;\n",
    "use warnings;\n",
    "use Data::Dump qw(dump);\n",
    "use List::Util qw(min max shuffle);\n",
    "use AI::MXNet qw(mx);"
   ]
  },
  {
   "cell_type": "code",
   "execution_count": 2,
   "id": "9cd67a87",
   "metadata": {},
   "outputs": [],
   "source": [
    "sub data_iter{ # Optimized\n",
    "  my ($features, $labels, $batch_size, $shuffle) = @_;\n",
    "  my $num_samples = $features->len;\n",
    "  my @indices = (0 .. $num_samples - 1);\n",
    "  my ($index, @batch_indices) = 0;\n",
    "  @indices = shuffle @indices if $shuffle;\n",
    "\n",
    "  return sub {\n",
    "    if ($index >= $num_samples){\n",
    "      $index = 0; # Resets at the end of an epoch.\n",
    "      return undef;\n",
    "    }\n",
    "    @batch_indices = @indices[$index .. min($index + $batch_size, $num_samples) - 1];\n",
    "    $index += $batch_size;\n",
    "    \n",
    "    return {data  => mx->nd->take($features, mx->nd->array(\\@batch_indices)),\n",
    "            label => mx->nd->take($labels,   mx->nd->array(\\@batch_indices))};\n",
    "  };\n",
    "}"
   ]
  },
  {
   "cell_type": "code",
   "execution_count": 3,
   "id": "8e2afbdd",
   "metadata": {},
   "outputs": [
    {
     "data": {
      "text/plain": [
       "<AI::MXNet::NDArray 5 @cpu(0)>"
      ]
     },
     "execution_count": 3,
     "metadata": {},
     "output_type": "execute_result"
    }
   ],
   "source": [
    "my $x1 = mx->nd->arange(stop => 15)->reshape([5, 3]);\n",
    "my $y1 = mx->nd->arange(stop => 5);"
   ]
  },
  {
   "cell_type": "code",
   "execution_count": 4,
   "id": "9dc0c997",
   "metadata": {},
   "outputs": [
    {
     "name": "stdout",
     "output_type": "stream",
     "text": [
      "[[0, 1, 2], [3, 4, 5], [6, 7, 8], [9, 10, 11], [12, 13, 14]]\n",
      "[0 .. 4]"
     ]
    },
    {
     "data": {
      "text/plain": [
       "1"
      ]
     },
     "execution_count": 4,
     "metadata": {},
     "output_type": "execute_result"
    }
   ],
   "source": [
    "print dump $x1->asarray;\n",
    "print \"\\n\", dump $y1->asarray;"
   ]
  },
  {
   "cell_type": "code",
   "execution_count": 5,
   "id": "1ce01fda",
   "metadata": {},
   "outputs": [
    {
     "data": {
      "text/plain": [
       "CODE(0x9368118)"
      ]
     },
     "execution_count": 5,
     "metadata": {},
     "output_type": "execute_result"
    }
   ],
   "source": [
    "my $train_iter = data_iter($x1, $y1, 2, 1);"
   ]
  },
  {
   "cell_type": "code",
   "execution_count": 6,
   "id": "7e3ea1f2",
   "metadata": {},
   "outputs": [
    {
     "name": "stdout",
     "output_type": "stream",
     "text": [
      "\n",
      "[[6, 7, 8], [9, 10, 11]]\n",
      "[2, 3]\n",
      "[[12, 13, 14], [0, 1, 2]]\n",
      "[4, 0]\n",
      "[[3, 4, 5]]\n",
      "[1]"
     ]
    }
   ],
   "source": [
    "while ( my $minibatch_train = $train_iter->() ) {\n",
    "  print \"\\n\", dump $minibatch_train->{data}->asarray;\n",
    "  print \"\\n\", dump $minibatch_train->{label}->asarray;\n",
    "}"
   ]
  },
  {
   "cell_type": "code",
   "execution_count": 7,
   "id": "19182c4a",
   "metadata": {},
   "outputs": [
    {
     "data": {
      "text/plain": [
       "AI::MXNet::Gluon::Data::Vision::DownloadedDataSet::FashionMNIST=HASH(0x9369e80)"
      ]
     },
     "execution_count": 7,
     "metadata": {},
     "output_type": "execute_result"
    }
   ],
   "source": [
    "my $mnist_train = gluon->data->vision->FashionMNIST('~/.mxnet/datasets/fashion-mnist', train => 1);\n",
    "my $mnist_test = gluon->data->vision->FashionMNIST('~/.mxnet/datasets/fashion-mnist',  train => 0);"
   ]
  },
  {
   "cell_type": "code",
   "execution_count": 8,
   "id": "d4b5f01e",
   "metadata": {},
   "outputs": [
    {
     "data": {
      "text/plain": [
       "<AI::MXNet::NDArray 60000x28x28 @cpu(0)><AI::MXNet::NDArray 60000 @cpu(0)>"
      ]
     },
     "execution_count": 8,
     "metadata": {},
     "output_type": "execute_result"
    }
   ],
   "source": [
    "my $transformer = sub {my ($data, $label) = @_;                 \n",
    "                       return ($data->reshape([-1, 28, 28])->astype('float32') / 255, $label)};\n",
    "                       \n",
    "my ($X, $y) = $transformer->($mnist_train->{data}, mx->nd->array($mnist_train->{label}));"
   ]
  },
  {
   "cell_type": "code",
   "execution_count": 9,
   "id": "a3ee383f",
   "metadata": {},
   "outputs": [
    {
     "data": {
      "text/plain": [
       "CODE(0x9145ad0)"
      ]
     },
     "execution_count": 9,
     "metadata": {},
     "output_type": "execute_result"
    }
   ],
   "source": [
    "my $train_iter = data_iter($X, $y, 256, 1);"
   ]
  },
  {
   "cell_type": "code",
   "execution_count": 10,
   "id": "e7ebd4f4",
   "metadata": {},
   "outputs": [
    {
     "data": {
      "text/plain": [
       "<AI::MXNet::NDArray 256 @cpu(0)>"
      ]
     },
     "execution_count": 10,
     "metadata": {},
     "output_type": "execute_result"
    }
   ],
   "source": [
    "my $minibatch_train = $train_iter->();\n",
    "my $X_train = $minibatch_train->{data};\n",
    "my $y_train = $minibatch_train->{label};"
   ]
  },
  {
   "cell_type": "code",
   "execution_count": 11,
   "id": "420ddc9e",
   "metadata": {},
   "outputs": [
    {
     "name": "stdout",
     "output_type": "stream",
     "text": [
      "[256, 28, 28]"
     ]
    },
    {
     "data": {
      "text/plain": [
       "1"
      ]
     },
     "execution_count": 11,
     "metadata": {},
     "output_type": "execute_result"
    }
   ],
   "source": [
    "print dump $X_train->shape;"
   ]
  },
  {
   "cell_type": "code",
   "execution_count": 12,
   "id": "5ea5ce62",
   "metadata": {},
   "outputs": [
    {
     "name": "stdout",
     "output_type": "stream",
     "text": [
      "[256]"
     ]
    },
    {
     "data": {
      "text/plain": [
       "1"
      ]
     },
     "execution_count": 12,
     "metadata": {},
     "output_type": "execute_result"
    }
   ],
   "source": [
    "print dump $y_train->shape;"
   ]
  },
  {
   "cell_type": "code",
   "execution_count": 14,
   "id": "b4bc6a3e",
   "metadata": {},
   "outputs": [
    {
     "name": "stdout",
     "output_type": "stream",
     "text": [
      "\n",
      "[256, 28, 28]\n",
      "[256, 28, 28]\n",
      "[256, 28, 28]\n",
      "[256, 28, 28]\n",
      "[256, 28, 28]\n",
      "[256, 28, 28]\n",
      "[256, 28, 28]\n",
      "[256, 28, 28]\n",
      "[256, 28, 28]\n",
      "[256, 28, 28]\n",
      "[256, 28, 28]\n",
      "[256, 28, 28]\n",
      "[256, 28, 28]\n",
      "[256, 28, 28]\n",
      "[256, 28, 28]\n",
      "[256, 28, 28]\n",
      "[256, 28, 28]\n",
      "[256, 28, 28]\n",
      "[256, 28, 28]\n",
      "[256, 28, 28]\n",
      "[256, 28, 28]\n",
      "[256, 28, 28]\n",
      "[256, 28, 28]\n",
      "[256, 28, 28]\n",
      "[256, 28, 28]\n",
      "[256, 28, 28]\n",
      "[256, 28, 28]\n",
      "[256, 28, 28]\n",
      "[256, 28, 28]\n",
      "[256, 28, 28]\n",
      "[256, 28, 28]\n",
      "[256, 28, 28]\n",
      "[256, 28, 28]\n",
      "[256, 28, 28]\n",
      "[256, 28, 28]\n",
      "[256, 28, 28]\n",
      "[256, 28, 28]\n",
      "[256, 28, 28]\n",
      "[256, 28, 28]\n",
      "[256, 28, 28]\n",
      "[256, 28, 28]\n",
      "[256, 28, 28]\n",
      "[256, 28, 28]\n",
      "[256, 28, 28]\n",
      "[256, 28, 28]\n",
      "[256, 28, 28]\n",
      "[256, 28, 28]\n",
      "[256, 28, 28]\n",
      "[256, 28, 28]\n",
      "[256, 28, 28]\n",
      "[256, 28, 28]\n",
      "[256, 28, 28]\n",
      "[256, 28, 28]\n",
      "[256, 28, 28]\n",
      "[256, 28, 28]\n",
      "[256, 28, 28]\n",
      "[256, 28, 28]\n",
      "[256, 28, 28]\n",
      "[256, 28, 28]\n",
      "[256, 28, 28]\n",
      "[256, 28, 28]\n",
      "[256, 28, 28]\n",
      "[256, 28, 28]\n",
      "[256, 28, 28]\n",
      "[256, 28, 28]\n",
      "[256, 28, 28]\n",
      "[256, 28, 28]\n",
      "[256, 28, 28]\n",
      "[256, 28, 28]\n",
      "[256, 28, 28]\n",
      "[256, 28, 28]\n",
      "[256, 28, 28]\n",
      "[256, 28, 28]\n",
      "[256, 28, 28]\n",
      "[256, 28, 28]\n",
      "[256, 28, 28]\n",
      "[256, 28, 28]\n",
      "[256, 28, 28]\n",
      "[256, 28, 28]\n",
      "[256, 28, 28]\n",
      "[256, 28, 28]\n",
      "[256, 28, 28]\n",
      "[256, 28, 28]\n",
      "[256, 28, 28]\n",
      "[256, 28, 28]\n",
      "[256, 28, 28]\n",
      "[256, 28, 28]\n",
      "[256, 28, 28]\n",
      "[256, 28, 28]\n",
      "[256, 28, 28]\n",
      "[256, 28, 28]\n",
      "[256, 28, 28]\n",
      "[256, 28, 28]\n",
      "[256, 28, 28]\n",
      "[256, 28, 28]\n",
      "[256, 28, 28]\n",
      "[256, 28, 28]\n",
      "[256, 28, 28]\n",
      "[256, 28, 28]\n",
      "[256, 28, 28]\n",
      "[256, 28, 28]\n",
      "[256, 28, 28]\n",
      "[256, 28, 28]\n",
      "[256, 28, 28]\n",
      "[256, 28, 28]\n",
      "[256, 28, 28]\n",
      "[256, 28, 28]\n",
      "[256, 28, 28]\n",
      "[256, 28, 28]\n",
      "[256, 28, 28]\n",
      "[256, 28, 28]\n",
      "[256, 28, 28]\n",
      "[256, 28, 28]\n",
      "[256, 28, 28]\n",
      "[256, 28, 28]\n",
      "[256, 28, 28]\n",
      "[256, 28, 28]\n",
      "[256, 28, 28]\n",
      "[256, 28, 28]\n",
      "[256, 28, 28]\n",
      "[256, 28, 28]\n",
      "[256, 28, 28]\n",
      "[256, 28, 28]\n",
      "[256, 28, 28]\n",
      "[256, 28, 28]\n",
      "[256, 28, 28]\n",
      "[256, 28, 28]\n",
      "[256, 28, 28]\n",
      "[256, 28, 28]\n",
      "[256, 28, 28]\n",
      "[256, 28, 28]\n",
      "[256, 28, 28]\n",
      "[256, 28, 28]\n",
      "[256, 28, 28]\n",
      "[256, 28, 28]\n",
      "[256, 28, 28]\n",
      "[256, 28, 28]\n",
      "[256, 28, 28]\n",
      "[256, 28, 28]\n",
      "[256, 28, 28]\n",
      "[256, 28, 28]\n",
      "[256, 28, 28]\n",
      "[256, 28, 28]\n",
      "[256, 28, 28]\n",
      "[256, 28, 28]\n",
      "[256, 28, 28]\n",
      "[256, 28, 28]\n",
      "[256, 28, 28]\n",
      "[256, 28, 28]\n",
      "[256, 28, 28]\n",
      "[256, 28, 28]\n",
      "[256, 28, 28]\n",
      "[256, 28, 28]\n",
      "[256, 28, 28]\n",
      "[256, 28, 28]\n",
      "[256, 28, 28]\n",
      "[256, 28, 28]\n",
      "[256, 28, 28]\n",
      "[256, 28, 28]\n",
      "[256, 28, 28]\n",
      "[256, 28, 28]\n",
      "[256, 28, 28]\n",
      "[256, 28, 28]\n",
      "[256, 28, 28]\n",
      "[256, 28, 28]\n",
      "[256, 28, 28]\n",
      "[256, 28, 28]\n",
      "[256, 28, 28]\n",
      "[256, 28, 28]\n",
      "[256, 28, 28]\n",
      "[256, 28, 28]\n",
      "[256, 28, 28]\n",
      "[256, 28, 28]\n",
      "[256, 28, 28]\n",
      "[256, 28, 28]\n",
      "[256, 28, 28]\n",
      "[256, 28, 28]\n",
      "[256, 28, 28]\n",
      "[256, 28, 28]\n",
      "[256, 28, 28]\n",
      "[256, 28, 28]\n",
      "[256, 28, 28]\n",
      "[256, 28, 28]\n",
      "[256, 28, 28]\n",
      "[256, 28, 28]\n",
      "[256, 28, 28]\n",
      "[256, 28, 28]\n",
      "[256, 28, 28]\n",
      "[256, 28, 28]\n",
      "[256, 28, 28]\n",
      "[256, 28, 28]\n",
      "[256, 28, 28]\n",
      "[256, 28, 28]\n",
      "[256, 28, 28]\n",
      "[256, 28, 28]\n",
      "[256, 28, 28]\n",
      "[256, 28, 28]\n",
      "[256, 28, 28]\n",
      "[256, 28, 28]\n",
      "[256, 28, 28]\n",
      "[256, 28, 28]\n",
      "[256, 28, 28]\n",
      "[256, 28, 28]\n",
      "[256, 28, 28]\n",
      "[256, 28, 28]\n",
      "[256, 28, 28]\n",
      "[256, 28, 28]\n",
      "[256, 28, 28]\n",
      "[256, 28, 28]\n",
      "[256, 28, 28]\n",
      "[256, 28, 28]\n",
      "[256, 28, 28]\n",
      "[256, 28, 28]\n",
      "[256, 28, 28]\n",
      "[256, 28, 28]\n",
      "[256, 28, 28]\n",
      "[256, 28, 28]\n",
      "[256, 28, 28]\n",
      "[256, 28, 28]\n",
      "[256, 28, 28]\n",
      "[256, 28, 28]\n",
      "[256, 28, 28]\n",
      "[256, 28, 28]\n",
      "[256, 28, 28]\n",
      "[256, 28, 28]\n",
      "[256, 28, 28]\n",
      "[256, 28, 28]\n",
      "[256, 28, 28]\n",
      "[256, 28, 28]\n",
      "[256, 28, 28]\n",
      "[256, 28, 28]\n",
      "[256, 28, 28]\n",
      "[256, 28, 28]\n",
      "[256, 28, 28]\n",
      "[96, 28, 28]"
     ]
    }
   ],
   "source": [
    "while ( my $minibatch_train = $train_iter->() ) {\n",
    "  my $X_train = $minibatch_train->{data};\n",
    "  my $y_train = $minibatch_train->{label};\n",
    "  print \"\\n\", dump $X_train->shape;\n",
    "}"
   ]
  },
  {
   "cell_type": "code",
   "execution_count": null,
   "id": "c4a79d33",
   "metadata": {},
   "outputs": [],
   "source": []
  }
 ],
 "metadata": {
  "kernelspec": {
   "display_name": "IPerl 0.011",
   "language": "perl",
   "name": "iperl"
  },
  "language_info": {
   "file_extension": ".pl",
   "mimetype": "text/x-perl",
   "name": "perl",
   "version": "5.32.1"
  }
 },
 "nbformat": 4,
 "nbformat_minor": 5
}