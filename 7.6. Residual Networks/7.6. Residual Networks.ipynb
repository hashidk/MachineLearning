{
 "cells": [
  {
   "cell_type": "markdown",
   "id": "993bb8f1",
   "metadata": {},
   "source": [
    "# 7.6. Residual Networks (ResNet)\n",
    ":label:`sec_resnet`\n",
    "\n",
    "As we design increasingly deeper networks it becomes imperative to understand how adding layers can increase the complexity and expressiveness of the network.\n",
    "Even more important is the ability to design networks where adding layers makes networks strictly more expressive rather than just different.\n",
    "To make some progress we need a bit of mathematics.\n",
    "\n",
    "\n",
    "## 7.6.1. Function Classes\n",
    "\n",
    "Consider $\\mathcal{F}$, the class of functions that a specific network architecture (together with learning rates and other hyperparameter settings) can reach.\n",
    "That is, for all $f \\in \\mathcal{F}$ there exists some set of parameters (e.g., weights and biases) that can be obtained through training on a suitable dataset.\n",
    "Let us assume that $f^*$ is the \"truth\" function that we really would like to find.\n",
    "If it is in $\\mathcal{F}$, we are in good shape but typically we will not be quite so lucky.\n",
    "Instead, we will try to find some $f^*_\\mathcal{F}$ which is our best bet within $\\mathcal{F}$.\n",
    "For instance, \n",
    "given a dataset with features $\\mathbf{X}$\n",
    "and labels $\\mathbf{y}$,\n",
    "we might try finding it by solving the following optimization problem:\n",
    "\n",
    "$$f^*_\\mathcal{F} \\stackrel{\\mathrm{def}}{=} \\mathop{\\mathrm{argmin}}_f L(\\mathbf{X}, \\mathbf{y}, f) \\text{ subject to } f \\in \\mathcal{F}.$$\n",
    "\n",
    "It is only reasonable to assume that if we design a different and more powerful architecture $\\mathcal{F}'$ we should arrive at a better outcome. In other words, we would expect that $f^*_{\\mathcal{F}'}$ is \"better\" than $f^*_{\\mathcal{F}}$. However, if $\\mathcal{F} \\not\\subseteq \\mathcal{F}'$ there is no guarantee that this should even happen. In fact, $f^*_{\\mathcal{F}'}$ might well be worse. \n",
    "As illustrated by :numref:`fig_functionclasses`,\n",
    "for non-nested function classes, a larger function class does not always move closer to the \"truth\" function $f^*$. For instance,\n",
    "on the left of :numref:`fig_functionclasses`,\n",
    "though $\\mathcal{F}_3$ is closer to $f^*$ than $\\mathcal{F}_1$, $\\mathcal{F}_6$ moves away and there is no guarantee that further increasing the complexity can reduce the distance from $f^*$.\n",
    "With nested function classes\n",
    "where $\\mathcal{F}_1 \\subseteq \\ldots \\subseteq \\mathcal{F}_6$\n",
    "on the right of :numref:`fig_functionclasses`,\n",
    "we can avoid the aforementioned issue from the non-nested function classes.\n",
    "\n",
    "\n",
    "![For non-nested function classes, a larger (indicated by area) function class does not guarantee to get closer to the \"truth\" function ($f^*$). This does not happen in nested function classes.](https://classic.d2l.ai/_images/functionclasses.svg)\n",
    ":label:`fig_functionclasses`\n",
    "\n",
    "Thus,\n",
    "only if larger function classes contain the smaller ones are we guaranteed that increasing them strictly increases the expressive power of the network.\n",
    "For deep neural networks,\n",
    "if we can \n",
    "train the newly-added layer into an identity function $f(\\mathbf{x}) = \\mathbf{x}$, the new model will be as effective as the original model. As the new model may get a better solution to fit the training dataset, the added layer might make it easier to reduce training errors.\n",
    "\n",
    "This is the question that He et al. considered when working on very deep computer vision models :cite:`He.Zhang.Ren.ea.2016`. \n",
    "At the heart of their proposed *residual network* (*ResNet*) is the idea that every additional layer should \n",
    "more easily\n",
    "contain the identity function as one of its elements. \n",
    "These considerations are rather profound but they led to a surprisingly simple\n",
    "solution, a *residual block*.\n",
    "With it, ResNet won the ImageNet Large Scale Visual Recognition Challenge in 2015. The design had a profound influence on how to\n",
    "build deep neural networks.\n",
    "\n",
    "\n",
    "\n",
    "## 7.6.2. **Residual Blocks**\n",
    "\n",
    "Let us focus on a local part of a neural network, as depicted in :numref:`fig_residual_block`. Denote the input by $\\mathbf{x}$.\n",
    "We assume that the desired underlying mapping we want to obtain by learning is $f(\\mathbf{x})$, to be used as the input to the activation function on the top.\n",
    "On the left of :numref:`fig_residual_block`,\n",
    "the portion within the dotted-line box \n",
    "must directly learn the mapping $f(\\mathbf{x})$.\n",
    "On the right,\n",
    "the portion within the dotted-line box\n",
    "needs to\n",
    "learn the *residual mapping* $f(\\mathbf{x}) - \\mathbf{x}$,\n",
    "which is how the residual block derives its name.\n",
    "If the identity mapping $f(\\mathbf{x}) = \\mathbf{x}$ is the desired underlying mapping,\n",
    "the residual mapping is easier to learn:\n",
    "we only need to push the weights and biases\n",
    "of the\n",
    "upper weight layer (e.g., fully-connected layer and convolutional layer)\n",
    "within the dotted-line box\n",
    "to zero.\n",
    "The right figure in :numref:`fig_residual_block` illustrates the  *residual block* of ResNet,\n",
    "where the solid line carrying the layer input \n",
    "$\\mathbf{x}$ to the addition operator\n",
    "is called a *residual connection* (or *shortcut connection*).\n",
    "With residual blocks, inputs can \n",
    "forward propagate faster through the residual connections across layers.\n",
    "\n",
    "![A regular block (left) and a residual block (right).](https://classic.d2l.ai/_images/residual-block.svg)\n",
    ":label:`fig_residual_block`\n",
    "\n",
    "\n",
    "ResNet follows VGG's full $3\\times 3$ convolutional layer design. The residual block has two $3\\times 3$ convolutional layers with the same number of output channels. Each convolutional layer is followed by a batch normalization layer and a ReLU activation function. Then, we skip these two convolution operations and add the input directly before the final ReLU activation function.\n",
    "This kind of design requires that the output of the two convolutional layers has to be of the same shape as the input, so that they can be added together. If we want to change the number of channels, we need to introduce an additional $1\\times 1$ convolutional layer to transform the input into the desired shape for the addition operation. Let us have a look at the code below.\n"
   ]
  },
  {
   "cell_type": "code",
   "execution_count": 1,
   "id": "ce82ba03",
   "metadata": {},
   "outputs": [],
   "source": [
    "use strict;\n",
    "use warnings;\n",
    "use Data::Dump qw(dump);\n",
    "use AI::MXNet qw(mx);\n",
    "use d2l;\n",
    "use d2l::Accumulator;\n",
    "use d2l::Animator;\n",
    "use d2l::Timer;\n",
    "IPerl->load_plugin('Chart::Plotly'); # Jupyter\n",
    "# use Chart::Plotly qw(show_plot); # Locally"
   ]
  },
  {
   "cell_type": "code",
   "execution_count": 2,
   "id": "dcb873c3",
   "metadata": {},
   "outputs": [
    {
     "data": {
      "text/plain": [
       "1"
      ]
     },
     "execution_count": 2,
     "metadata": {},
     "output_type": "execute_result"
    }
   ],
   "source": [
    "package Residual{\n",
    "    use strict;\n",
    "    use warnings;\n",
    "    use Data::Dump qw(dump);\n",
    "    use AI::MXNet qw(mx);\n",
    "    use base qw(AI::MXNet::Gluon::Block);\n",
    "    \n",
    "    sub new {#@save\n",
    "      my ($class, $num_channels, $use_1x1conv, $strides, %args) = (shift, @_);\n",
    "      if ( !defined ($use_1x1conv)) {\n",
    "          $use_1x1conv = 0;\n",
    "      }\n",
    "      if ( !defined ($strides)) {\n",
    "          $strides = 1;\n",
    "      }\n",
    "      my $self = $class->SUPER::new(%args);\n",
    "      $self->{conv1} = mx->gluon->nn->Conv2D($num_channels, kernel_size => 3, padding => 1, strides => $strides);\n",
    "      $self->{conv2} = mx->gluon->nn->Conv2D($num_channels, kernel_size => 3, padding => 1);\n",
    "      if ($use_1x1conv) {\n",
    "          $self->{conv3} = mx->gluon->nn->Conv2D($num_channels, kernel_size => 1, strides => $strides);\n",
    "      }else {\n",
    "          $self->{conv3} = undef;\n",
    "      }\n",
    "      \n",
    "      $self->{bn1} = mx->gluon->nn->BatchNorm();\n",
    "      $self->{bn2} = mx->gluon->nn->BatchNorm();\n",
    "      # Initialization of each layer\n",
    "      foreach my $name ('conv1', 'conv2', 'conv3', 'bn1', 'bn2'){\n",
    "          if (defined ($self->{$name}) ) {\n",
    "              $self->register_child($self->{$name}) ;\n",
    "          }\n",
    "       }\n",
    "       return bless($self, $class);\n",
    "    }\n",
    "    \n",
    "    sub forward {\n",
    "        my ($self, $X) = @_;\n",
    "        my $Y = mx->nd->relu($self->{bn1}->forward($self->{conv1}->forward($X)));\n",
    "        $Y = $self->{bn2}->forward($self->{conv2}->forward($Y));\n",
    "        if ( defined ($self->{conv3}) ) {\n",
    "            $X = $self->{conv3}->forward($X);\n",
    "        }\n",
    "       return mx->nd->relu($Y + $X);\n",
    "    }\n",
    "    \n",
    "    1;\n",
    "    \n",
    "}"
   ]
  },
  {
   "cell_type": "markdown",
   "id": "50a3caaf",
   "metadata": {},
   "source": [
    "This code generates two types of networks: one where we add the input to the output before applying the ReLU nonlinearity whenever `use_1x1conv=False`, and one where we adjust channels and resolution by means of a $1 \\times 1$ convolution before adding. :numref:`fig_resnet_block` illustrates this:\n",
    "\n",
    "![ResNet block with and without $1 \\times 1$ convolution.](https://classic.d2l.ai/_images/resnet-block.svg)\n",
    ":label:`fig_resnet_block`\n",
    "\n",
    "Now let us look at [**a situation where the input and output are of the same shape**]."
   ]
  },
  {
   "cell_type": "code",
   "execution_count": 3,
   "id": "6c826ce3",
   "metadata": {
    "scrolled": false
   },
   "outputs": [
    {
     "name": "stdout",
     "output_type": "stream",
     "text": [
      "[4, 3, 6, 6]"
     ]
    },
    {
     "data": {
      "text/plain": [
       "1"
      ]
     },
     "execution_count": 3,
     "metadata": {},
     "output_type": "execute_result"
    }
   ],
   "source": [
    "my $blk = Residual->new(3);\n",
    "$blk->initialize();\n",
    "my $X = mx->nd->random->uniform(shape => [4, 3, 6, 6]);\n",
    "print dump $blk->($X)->shape;"
   ]
  },
  {
   "cell_type": "markdown",
   "id": "aba50a74",
   "metadata": {},
   "source": [
    "We also have the option to [**halve the output height and width while increasing the number of output channels**].\n"
   ]
  },
  {
   "cell_type": "code",
   "execution_count": 4,
   "id": "a57cca59",
   "metadata": {},
   "outputs": [
    {
     "name": "stdout",
     "output_type": "stream",
     "text": [
      "[4, 6, 3, 3]"
     ]
    },
    {
     "data": {
      "text/plain": [
       "1"
      ]
     },
     "execution_count": 4,
     "metadata": {},
     "output_type": "execute_result"
    }
   ],
   "source": [
    "$blk = Residual->new (6, 1, 2);\n",
    "$blk->initialize();\n",
    "print dump $blk->($X)->shape;"
   ]
  },
  {
   "cell_type": "markdown",
   "id": "f05f7b08",
   "metadata": {},
   "source": [
    "## 7.6.3 **ResNet Model**\n",
    "\n",
    "The first two layers of ResNet are the same as those of the GoogLeNet we described before: the $7\\times 7$ convolutional layer with 64 output channels and a stride of 2 is followed by the $3\\times 3$ maximum pooling layer with a stride of 2. The difference is the batch normalization layer added after each convolutional layer in ResNet."
   ]
  },
  {
   "cell_type": "code",
   "execution_count": 5,
   "id": "df01ddf0",
   "metadata": {},
   "outputs": [],
   "source": [
    "my $net = mx->gluon->nn->Sequential();\n",
    "$net->add(mx->gluon->nn->Conv2D(64, kernel_size => 7, strides => 2, padding => 3),\n",
    "        mx->gluon->nn->BatchNorm(), mx->gluon->nn->Activation('relu'),\n",
    "        mx->gluon->nn->MaxPool2D(pool_size => 3, strides => 2, padding => 1))"
   ]
  },
  {
   "cell_type": "markdown",
   "id": "04de2f01",
   "metadata": {},
   "source": [
    "GoogLeNet uses four modules made up of Inception blocks.\n",
    "However, ResNet uses four modules made up of residual blocks, each of which uses several residual blocks with the same number of output channels. \n",
    "The number of channels in the first module is the same as the number of input channels. Since a maximum pooling layer with a stride of 2 has already been used, it is not necessary to reduce the height and width. In the first residual block for each of the subsequent modules, the number of channels is doubled compared with that of the previous module, and the height and width are halved.\n",
    "\n",
    "Now, we implement this module. Note that special processing has been performed on the first module."
   ]
  },
  {
   "cell_type": "code",
   "execution_count": 6,
   "id": "14a46826",
   "metadata": {},
   "outputs": [],
   "source": [
    "sub resnet_block {\n",
    "    my ($num_channels, $num_residuals, $first_block) = @_;\n",
    "    if ( !defined ($first_block)) {\n",
    "          $first_block = 0;\n",
    "      }\n",
    "    my $blk = mx->gluon->nn->Sequential();\n",
    "    for my $i (0 .. $num_residuals){\n",
    "        if ($i == 0 and !$first_block){\n",
    "            $blk->add(Residual->new($num_channels, 1, 2));\n",
    "        }else {\n",
    "            $blk->add(Residual->new($num_channels));\n",
    "        }\n",
    "    }\n",
    "    return $blk;\n",
    "}"
   ]
  },
  {
   "cell_type": "markdown",
   "id": "d9dc989a",
   "metadata": {},
   "source": [
    "Then, we add all the modules to ResNet. Here, two residual blocks are used for each module."
   ]
  },
  {
   "cell_type": "code",
   "execution_count": 7,
   "id": "115cc655",
   "metadata": {},
   "outputs": [],
   "source": [
    "$net->add(resnet_block(64, 2, 1),\n",
    "        resnet_block(128, 2),\n",
    "        resnet_block(256, 2),\n",
    "        resnet_block(512, 2));"
   ]
  },
  {
   "cell_type": "markdown",
   "id": "cb27a1af",
   "metadata": {},
   "source": [
    "Finally, just like GoogLeNet, we add a global average pooling layer, followed by the fully-connected layer output.\n"
   ]
  },
  {
   "cell_type": "code",
   "execution_count": 8,
   "id": "a28e3f90",
   "metadata": {},
   "outputs": [],
   "source": [
    "$net->add(mx->gluon->nn->GlobalAvgPool2D(), mx->gluon->nn->Dense(10));"
   ]
  },
  {
   "cell_type": "markdown",
   "id": "4479dd23",
   "metadata": {},
   "source": [
    "There are 4 convolutional layers in each module (excluding the $1\\times 1$ convolutional layer). Together with the first $7\\times 7$ convolutional layer and the final fully-connected layer, there are 18 layers in total. Therefore, this model is commonly known as ResNet-18.\n",
    "By configuring different numbers of channels and residual blocks in the module, we can create different ResNet models, such as the deeper 152-layer ResNet-152. Although the main architecture of ResNet is similar to that of GoogLeNet, ResNet's structure is simpler and easier to modify. All these factors have resulted in the rapid and widespread use of ResNet. :numref:`fig_resnet18` depicts the full ResNet-18.\n",
    "\n",
    "![The ResNet-18 architecture.](https://classic.d2l.ai/_images/resnet18.svg)\n",
    ":label:`fig_resnet18`\n",
    "\n",
    "Before training ResNet, let us [**observe how the input shape changes across different modules in ResNet**]. As in all the previous architectures, the resolution decreases while the number of channels increases up until the point where a global average pooling layer aggregates all features.\n"
   ]
  },
  {
   "cell_type": "code",
   "execution_count": 9,
   "id": "6631456b",
   "metadata": {},
   "outputs": [
    {
     "name": "stdout",
     "output_type": "stream",
     "text": [
      "conv5 output shape:\t[1, 64, 112, 112]\n",
      "batchnorm4 output shape:\t[1, 64, 112, 112]\n",
      "relu0 output shape:\t[1, 64, 112, 112]\n",
      "pool0 output shape:\t[1, 64, 56, 56]\n",
      "sequential1 output shape:\t[1, 64, 56, 56]\n",
      "sequential2 output shape:\t[1, 128, 28, 28]\n",
      "sequential3 output shape:\t[1, 256, 14, 14]\n",
      "sequential4 output shape:\t[1, 512, 7, 7]\n",
      "pool1 output shape:\t[1, 512, 1, 1]\n",
      "dense0 output shape:\t[1, 10]\n"
     ]
    }
   ],
   "source": [
    "$X = mx->nd->random->uniform(shape => [1, 1, 224, 224]);\n",
    "$net->initialize(mx->init->Xavier(), force_reinit=>1);\n",
    "foreach my $layer (@$net) {\n",
    "    $X = $layer->forward($X);\n",
    "    print $layer->name, \" output shape:\\t\", dump ($X->shape), \"\\n\";\n",
    "}"
   ]
  },
  {
   "cell_type": "markdown",
   "id": "6d7b06ef",
   "metadata": {},
   "source": [
    "## 7.6.4. **Training**\n",
    "\n",
    "We train ResNet on the Fashion-MNIST dataset, just like before."
   ]
  },
  {
   "cell_type": "code",
   "execution_count": null,
   "id": "34f13a14",
   "metadata": {},
   "outputs": [],
   "source": [
    "my ($lr, $num_epochs, $batch_size) = (0.05, 10, 256);\n",
    "my ($train_iter, $test_iter) = d2l->load_data_fashion_mnist(batch_size => $batch_size, resize => 96);\n",
    "my ($model_file_name, $is_train, $animator) = ('GoogLeNet.mdl', 1);\n",
    "if ($is_train){\n",
    "  $animator = d2l->train_ch6($net, $train_iter, $test_iter, $num_epochs, $lr, d2l->try_gpu());\n",
    "  $net->save_parameters($model_file_name);\n",
    "  $animator->plot;\n",
    "}else{\n",
    "  $net->load_parameters($model_file_name);\n",
    "}\n",
    "#3. Debido a que las imágenes en tamaño 224 x 224 son demasiado pesadas para avanzar con el procesamiento,  no hace falta \n",
    "#que se ejecute el entrenamiento del modelo, ya que el entrenamiento de un único modelo ocuparía todos recursos de cpu \n",
    "#y memoria del servidor Jupyter. La revisión y calificación del notebook entregado se realizará mediante la comparación\n",
    "#con las demás  lineas de codigo del mismo.\n",
    "#Da lo mismo usar la funcion"
   ]
  },
  {
   "cell_type": "markdown",
   "id": "902f20ac",
   "metadata": {},
   "source": [
    "## Summary\n",
    "\n",
    "* Nested function classes are desirable. Learning an additional layer in deep neural networks as an identity function (though this is an extreme case) should be made easy.\n",
    "* The residual mapping can learn the identity function more easily, such as pushing parameters in the weight layer to zero.\n",
    "* We can train an effective deep neural network by having residual blocks. Inputs can forward propagate faster through the residual connections across layers.\n",
    "* ResNet had a major influence on the design of subsequent deep neural networks, both for convolutional and sequential nature.\n",
    "\n",
    "\n",
    "## Exercises\n",
    "\n",
    "1. What are the major differences between the Inception block in :numref:`fig_inception` and the residual block? After removing some paths in the Inception block, how are they related to each other?\n",
    "1. Refer to Table 1 in the ResNet paper :cite:`He.Zhang.Ren.ea.2016` to\n",
    "   implement different variants.\n",
    "1. For deeper networks, ResNet introduces a \"bottleneck\" architecture to reduce\n",
    "   model complexity. Try to implement it.\n",
    "1. In subsequent versions of ResNet, the authors changed the \"convolution, batch\n",
    "   normalization, and activation\" structure to the \"batch normalization,\n",
    "   activation, and convolution\" structure. Make this improvement\n",
    "   yourself. See Figure 1 in :cite:`He.Zhang.Ren.ea.2016*1`\n",
    "   for details.\n",
    "1. Why can't we just increase the complexity of functions without bound, even if the function classes are nested?"
   ]
  }
 ],
 "metadata": {
  "kernelspec": {
   "display_name": "IPerl 0.011",
   "language": "perl",
   "name": "iperl"
  },
  "language_info": {
   "file_extension": ".pl",
   "mimetype": "text/x-perl",
   "name": "perl",
   "version": "5.32.1"
  }
 },
 "nbformat": 4,
 "nbformat_minor": 5
}
