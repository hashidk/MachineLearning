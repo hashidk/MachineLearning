{
 "cells": [
  {
   "attachments": {
    "image.png": {
     "image/png": "[encoded data removed]"
    }
   },
   "cell_type": "markdown",
   "id": "d8e83c9a",
   "metadata": {},
   "source": [
    "# 6.2 Convolutions for Images\n",
    "Now that we understand how convolutional layers work in theory, we are ready to see how they\n",
    "work in practice. Building on our motivation of convolutional neural networks as efficient architectures for exploring structure in image data, we stick with images as our running example.\n",
    "## 6.2.1 The Cross-Correlation Operation\n",
    "Recall that strictly speaking, convolutional layers are a misnomer, since the operations they express are more accurately described as cross-correlations. Based on our descriptions of convolutional layers in Section 6.1, in such a layer, an input tensor and a kernel tensor are combined to\n",
    "produce an output tensor through a cross-correlation operation.\n",
    "\n",
    "Let us ignore channels for now and see how this works with two-dimensional data and hidden\n",
    "representations. In Fig. 6.2.1, the input is a two-dimensional tensor with a height of 3 and width\n",
    "of 3. We mark the shape of the tensor as 3 × 3 or (3, 3). The height and width of the kernel are\n",
    "both 2. The shape of the kernel window (or convolution window) is given by the height and width of\n",
    "the kernel (here it is 2 × 2).\n",
    "\n",
    "![image.png](attachment:image.png)\n",
    "\n",
    "Fig. 6.2.1: Two-dimensional cross-correlation operation. The shaded portions are the first output\n",
    "element as well as the input and kernel tensor elements used for the output computation: 0 × 0 +\n",
    "1 × 1 + 3 × 2 + 4 × 3 = 19.\n",
    "\n",
    "In the two-dimensional cross-correlation operation, we begin with the convolution window positioned at the top-left corner of the input tensor and slide it across the input tensor, both from leff to right and top to bottom. When the convolution window slides to a certain position, the input\n",
    "subtensor contained in that window and the kernel tensor are multiplied elementwise and the resulting tensor is summed up yielding a single scalar value. This result gives the value of the output\n",
    "tensor at the corresponding location. Here, the output tensor has a height of 2 and width of 2 and\n",
    "the four elements are derived from the two-dimensional cross-correlation operation:\n",
    "\n",
    "$$\n",
    "\n",
    "0 × 0 + 1 × 1 + 3 × 2 + 4 × 3 = 19,\\\\\n",
    "1 × 0 + 2 × 1 + 4 × 2 + 5 × 3 = 25,\\\\\n",
    "3 × 0 + 4 × 1 + 6 × 2 + 7 × 3 = 37,\\\\\n",
    "4 × 0 + 5 × 1 + 7 × 2 + 8 × 3 = 43.\\\\\n",
    "(6.2.1)\n",
    "\n",
    "$$\n",
    "\n",
    "Note that along each axis, the output size is slightly smaller than the input size. Because the kernel\n",
    "has width and height greater than one, we can only properly compute the cross-correlation for\n",
    "locations where the kernel fits wholly within the image, the output size is given by the input size\n",
    "$n_h × n_w$ minus the size of the convolution kernel $k_h × k_w$ via\n",
    "\n",
    "$$(n_h − k_h + 1) × (n_w − k_w + 1). (6.2.2)$$\n",
    "\n",
    "This is the case since we need enough space to “shift” the convolution kernel across the image.\n",
    "Later we will see how to keep the size unchanged by padding the image with zeros around its\n",
    "boundary so that there is enough space to shift the kernel. Next, we implement this process in\n",
    "the corr2d function, which accepts an input tensor X and a kernel tensor K and returns an output\n",
    "tensor Y."
   ]
  },
  {
   "cell_type": "code",
   "execution_count": null,
   "id": "9acf269d",
   "metadata": {},
   "outputs": [],
   "source": [
    "from mxnet import autograd, np, npx\n",
    "from mxnet.gluon import nn\n",
    "from d2l import mxnet as d2l\n",
    "npx.set_np()"
   ]
  },
  {
   "cell_type": "code",
   "execution_count": null,
   "id": "b2c80aa4",
   "metadata": {},
   "outputs": [],
   "source": [
    "def corr2d(X, K): #@save\n",
    "    \"\"\"Compute 2D cross-correlation.\"\"\"\n",
    "    h, w = K.shape\n",
    "    Y = np.zeros((X.shape[0] - h + 1, X.shape[1] - w + 1))\n",
    "    for i in range(Y.shape[0]):\n",
    "        for j in range(Y.shape[1]):\n",
    "            Y[i, j] = (X[i:i + h, j:j + w] * K).sum()\n",
    "    return Y"
   ]
  },
  {
   "attachments": {},
   "cell_type": "markdown",
   "id": "e9489f5b",
   "metadata": {},
   "source": [
    "We can construct the input tensor X and the kernel tensor K from Fig. 6.2.1 to validate the output\n",
    "of the above implementation of the two-dimensional cross-correlation operation."
   ]
  },
  {
   "cell_type": "code",
   "execution_count": null,
   "id": "db7648ac",
   "metadata": {},
   "outputs": [],
   "source": [
    "X = np.array([[0.0, 1.0, 2.0], [3.0, 4.0, 5.0], [6.0, 7.0, 8.0]])\n",
    "K = np.array([[0.0, 1.0], [2.0, 3.0]])\n",
    "corr2d(X, K)"
   ]
  },
  {
   "attachments": {},
   "cell_type": "markdown",
   "id": "974d71e0",
   "metadata": {},
   "source": [
    "## 6.2.2 Convolutional Layers\n",
    "A convolutional layer cross-correlates the input and kernel and adds a scalar bias to produce an\n",
    "output. The two parameters of a convolutional layer are the kernel and the scalar bias. When\n",
    "training models based on convolutional layers, we typically initialize the kernels randomly, just\n",
    "as we would with a fully-connected layer.\n",
    "We are now ready to implement a two-dimensional convolutional layer based on the corr2d func\u0002tion defined above. In the __init__ constructor function, we declare weight and bias as the two\n",
    "model parameters. The forward propagation function calls the corr2d function and adds the bias."
   ]
  },
  {
   "cell_type": "code",
   "execution_count": null,
   "id": "deac58bb",
   "metadata": {},
   "outputs": [],
   "source": [
    "class Conv2D(nn.Block):\n",
    "    def __init__(self, kernel_size, **kwargs):\n",
    "        super().__init__(**kwargs)\n",
    "        self.weight = self.params.get('weight', shape=kernel_size)\n",
    "        self.bias = self.params.get('bias', shape=(1,))\n",
    "        \n",
    "    def forward(self, x):\n",
    "        return corr2d(x, self.weight.data()) + self.bias.data()\n"
   ]
  },
  {
   "attachments": {},
   "cell_type": "markdown",
   "id": "2a616bbc",
   "metadata": {},
   "source": [
    "In $h × w$ convolution or a $h × w$ convolution kernel, the height and width of the convolution kernel\n",
    "are $h$ and $w$, respectively. We also refer to a convolutional layer with a $h × w$ convolution kernel\n",
    "simply as a $h × w$ convolutional layer.\n",
    "\n",
    "## 6.2.3 Object Edge Detection in Images\n",
    "Let us take a moment to parse a simple application of a convolutional layer: detecting the edge of\n",
    "an object in an image by finding the location of the pixel change. First, we construct an “image”\n",
    "of 6 × 8 pixels. The middle four columns are black (0) and the rest are white (1)."
   ]
  },
  {
   "cell_type": "code",
   "execution_count": null,
   "id": "cf7001e8",
   "metadata": {},
   "outputs": [],
   "source": [
    "X = np.ones((6, 8))\n",
    "X[:, 2:6] = 0\n",
    "X"
   ]
  },
  {
   "attachments": {},
   "cell_type": "markdown",
   "id": "2f9be73b",
   "metadata": {},
   "source": [
    "Next, we construct a kernel K with a height of 1 and a width of 2. When we perform the crosscorrelation operation with the input, if the horizontally adjacent elements are the same, the output\n",
    "is 0. Otherwise, the output is non-zero"
   ]
  },
  {
   "cell_type": "code",
   "execution_count": null,
   "id": "b67f8452",
   "metadata": {},
   "outputs": [],
   "source": [
    "K = np.array([[1.0, -1.0]])"
   ]
  },
  {
   "attachments": {},
   "cell_type": "markdown",
   "id": "f49cbf7f",
   "metadata": {},
   "source": [
    "We are ready to perform the cross-correlation operation with arguments X (our input) and K (our\n",
    "kernel). As you can see, we detect 1 for the edge from white to black and -1 for the edge from black\n",
    "to white. All other outputs take value 0."
   ]
  },
  {
   "cell_type": "code",
   "execution_count": null,
   "id": "181209d0",
   "metadata": {},
   "outputs": [],
   "source": [
    "Y = corr2d(X, K)\n",
    "Y"
   ]
  },
  {
   "attachments": {},
   "cell_type": "markdown",
   "id": "ca35d576",
   "metadata": {},
   "source": [
    "We can now apply the kernel to the transposed image. As expected, it vanishes. The kernel K only\n",
    "detects vertical edges."
   ]
  },
  {
   "cell_type": "code",
   "execution_count": null,
   "id": "0fbc36b6",
   "metadata": {},
   "outputs": [],
   "source": [
    "corr2d(X.T, K)"
   ]
  },
  {
   "attachments": {},
   "cell_type": "markdown",
   "id": "85bfc3ca",
   "metadata": {},
   "source": [
    "## 6.2.4 Learning a Kernel\n",
    "Designing an edge detector by finite differences [1, -1] is neat if we know this is precisely what\n",
    "we are looking for. However, as we look at larger kernels, and consider successive layers of convolutions, it might be impossible to specify precisely what each filter should be doing manually.\n",
    "\n",
    "Now let us see whether we can learn the kernel that generated Y from X by looking at the input–\n",
    "output pairs only. We first construct a convolutional layer and initialize its kernel as a random\n",
    "tensor. Next, in each iteration, we will use the squared error to compare Y with the output of\n",
    "the convolutional layer. We can then calculate the gradient to update the kernel. For the sake of\n",
    "simplicity, in the following we use the built-in class for two-dimensional convolutional layers and\n",
    "ignore the bias."
   ]
  },
  {
   "cell_type": "code",
   "execution_count": null,
   "id": "6f1463b8",
   "metadata": {},
   "outputs": [],
   "source": [
    "# Construct a two-dimensional convolutional layer with 1 output channel and a\n",
    "# kernel of shape (1, 2). For the sake of simplicity, we ignore the bias here\n",
    "conv2d = nn.Conv2D(1, kernel_size=(1, 2), use_bias=False)\n",
    "conv2d.initialize()\n",
    "\n",
    "# The two-dimensional convolutional layer uses four-dimensional input and\n",
    "# output in the format of (example, channel, height, width), where the batch\n",
    "# size (number of examples in the batch) and the number of channels are both 1\n",
    "X = X.reshape(1, 1, 6, 8)\n",
    "Y = Y.reshape(1, 1, 6, 7)\n",
    "lr = 3e-2 # Learning rate\n",
    "\n",
    "for i in range(10):\n",
    "    with autograd.record():\n",
    "        Y_hat = conv2d(X)\n",
    "        l = (Y_hat - Y)**2\n",
    "    l.backward()\n",
    "    # Update the kernel\n",
    "    conv2d.weight.data()[:] -= lr * conv2d.weight.grad()\n",
    "    if (i + 1) % 2 == 0:\n",
    "        print(f'batch {i + 1}, loss {float(l.sum()):.3f}')\n"
   ]
  },
  {
   "attachments": {},
   "cell_type": "markdown",
   "id": "5a15312f",
   "metadata": {},
   "source": [
    "Note that the error has dropped to a small value after 10 iterations. Now we will take a look at the\n",
    "kernel tensor we learned."
   ]
  },
  {
   "cell_type": "code",
   "execution_count": null,
   "id": "d858a1ef",
   "metadata": {},
   "outputs": [],
   "source": [
    "conv2d.weight.data().reshape((1, 2))"
   ]
  },
  {
   "attachments": {},
   "cell_type": "markdown",
   "id": "98901803",
   "metadata": {},
   "source": [
    "Indeed, the learned kernel tensor is remarkably close to the kernel tensor K we defined earlier.\n",
    "\n",
    "## 6.2.5 Cross-Correlation and Convolution\n",
    "Recall our observation from Section 6.1 of the correspondence between the cross-correlation and\n",
    "convolution operations. Here let us continue to consider two-dimensional convolutional layers.\n",
    "What if such layers perform strict convolution operations as defined in (6.1.6) instead of crosscorrelations? In order to obtain the output of the strict convolution operation, we only need to flip\n",
    "the two-dimensional kernel tensor both horizontally and vertically, and then perform the crosscorrelation operation with the input tensor.\n",
    "\n",
    "It is noteworthy that since kernels are learned from data in deep learning, the outputs of convolutional layers remain unaffected no matter such layers perform either the strict convolution\n",
    "operations or the cross-correlation operations.\n",
    "\n",
    "To illustrate this, suppose that a convolutional layer performs cross-correlation and learns the kernel in Fig. 6.2.1, which is denoted as the matrix **K** here. Assuming that other conditions remain\n",
    "unchanged, when this layer performs strict convolution instead, the learned kernel **K′** will be the same as **K** after **K′** is flipped both horizontally and vertically. That is to say, when the convolutional layer performs strict convolution for the input in Fig. 6.2.1 and **K′**, the same output in Fig. 6.2.1 (cross-correlation of the input and **K**) will be obtained.\n",
    "\n",
    "In keeping with standard terminology with deep learning literature, we will continue to refer to the\n",
    "cross-correlation operation as a convolution even though, strictly-speaking, it is slightly different.\n",
    "Besides, we use the term element to refer to an entry (or component) of any tensor representing a\n",
    "layer representation or a convolution kernel.\n",
    "\n",
    "## 6.2.6 Feature Map and Receptive Field\n",
    "As described in Section 6.1.4, the convolutional layer output in Fig. 6.2.1 is sometimes called a *feature map*, as it can be regarded as the learned representations (features) in the spatial dimensions\n",
    "(e.g., width and height) to the subsequent layer. In CNNs, for any element x of some layer, its *receptive field* refers to all the elements (from all the previous layers) that may affect the calculation\n",
    "of x during the forward propagation. Note that the receptive field may be larger than the actual\n",
    "size of the input.\n",
    "\n",
    "Let us continue to use Fig. 6.2.1 to explain the receptive field. Given the 2 × 2 convolution kernel,\n",
    "the receptive field of the shaded output element (of value 19) is the four elements in the shaded\n",
    "portion of the input. Now let us denote the 2 × 2 output as **Y** and consider a deeper CNN with an\n",
    "additional 2 × 2 convolutional layer that takes **Y** as its input, outputting a single element z. In this\n",
    "case, the receptive field of z on **Y** includes all the four elements of **Y**, while the receptive field on\n",
    "the input includes all the nine input elements. Thus, when any element in a feature map needs a\n",
    "larger receptive field to detect input features over a broader area, we can build a deeper network.\n",
    "\n",
    "## Summary\n",
    "* The core computation of a two-dimensional convolutional layer is a two-dimensional crosscorrelation operation. In its simplest form, this performs a cross-correlation operation on the two-dimensional input data and the kernel, and then adds a bias.\n",
    "* We can design a kernel to detect edges in images.\n",
    "* We can learn the kernelʼs parameters from data.\n",
    "* With kernels learned from data, the outputs of convolutional layers remain unaffected regardless of such layersʼ performed operations (either strict convolution or crosscorrelation).\n",
    "* When any element in a feature map needs a larger receptive field to detect broader features on the input, a deeper network can be considered.\n"
   ]
  }
 ],
 "metadata": {
  "kernelspec": {
   "display_name": "IPerl 0.011",
   "language": "perl",
   "name": "iperl"
  },
  "language_info": {
   "file_extension": ".pl",
   "mimetype": "text/x-perl",
   "name": "perl",
   "version": "5.32.1"
  }
 },
 "nbformat": 4,
 "nbformat_minor": 5
}
